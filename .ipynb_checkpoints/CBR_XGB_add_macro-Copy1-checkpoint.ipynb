{
 "cells": [
  {
   "cell_type": "code",
   "execution_count": 5,
   "metadata": {
    "collapsed": false
   },
   "outputs": [],
   "source": [
    "import pandas as pd\n",
    "import numpy as np\n",
    "import xmltodict"
   ]
  },
  {
   "cell_type": "code",
   "execution_count": 6,
   "metadata": {
    "collapsed": false,
    "scrolled": true
   },
   "outputs": [],
   "source": [
    "import urllib2\n",
    "import datetime"
   ]
  },
  {
   "cell_type": "code",
   "execution_count": 7,
   "metadata": {
    "collapsed": true
   },
   "outputs": [],
   "source": [
    "def read_data(filenames):\n",
    "    arrays = [0,0,0]\n",
    "    for i in xrange(len(filenames)):\n",
    "        arrays[i] = pd.read_csv(filenames[i], parse_dates=['timestamp'])\n",
    "    return arrays"
   ]
  },
  {
   "cell_type": "code",
   "execution_count": 8,
   "metadata": {
    "collapsed": false
   },
   "outputs": [],
   "source": [
    "def my_transport(data):\n",
    "    data[\"metro_km_walk\"]=data[\"metro_km_walk\"].fillna(data[\"metro_km_avto\"])\n",
    "    data[\"metro_min_walk\"]=data[\"metro_min_walk\"].fillna(data[\"metro_km_avto\"]*12)\n",
    "    data[\"railroad_station_walk_km\"]=data[\"railroad_station_walk_km\"].fillna(data[\"railroad_station_avto_km\"])\n",
    "    data[\"railroad_station_walk_min\"]=data[\"railroad_station_walk_min\"].fillna(data[\"railroad_station_avto_km\"]*12)\n",
    "    data[\"ID_railroad_station_walk\"]=data[\"ID_railroad_station_walk\"].fillna(data[\"ID_railroad_station_avto\"])\n",
    "    return data"
   ]
  },
  {
   "cell_type": "code",
   "execution_count": 9,
   "metadata": {
    "collapsed": false
   },
   "outputs": [],
   "source": [
    "from sklearn.preprocessing import Imputer\n",
    "def my_cafe(data):\n",
    "    st0=['cafe_sum_5000_min_price_avg','cafe_sum_5000_max_price_avg','cafe_avg_price_5000']\n",
    "    l=['5000','3000','2000','1500','1000','500']\n",
    "    medImputer=Imputer(strategy='median')\n",
    "    data[st0]=medImputer.fit_transform(data[st0])\n",
    "    for i in xrange(len(l)-1):\n",
    "        st1=[st.replace('5000',str(l[i+1])) for st in st0]\n",
    "        st2=[st.replace('5000',str(l[i])) for st in st0]\n",
    "        for k in xrange(len(st1)):\n",
    "            data[st1[k]]=data[st1[k]].fillna(data[st2[k]])\n",
    "    return data        "
   ]
  },
  {
   "cell_type": "code",
   "execution_count": 10,
   "metadata": {
    "collapsed": false
   },
   "outputs": [],
   "source": [
    "def er10(data):\n",
    "    err = (data.full_sq>data.life_sq*10)&(data.life_sq>2)\n",
    "    data.ix[err,'full_sq'] = data.ix[err,'full_sq']/10\n",
    "    return data"
   ]
  },
  {
   "cell_type": "code",
   "execution_count": 11,
   "metadata": {
    "collapsed": true
   },
   "outputs": [],
   "source": [
    "def my_impute(data):\n",
    "    data[\"floor\"]=data[\"floor\"].fillna(data[\"max_floor\"])\n",
    "    data[\"life_sq\"]=(data[\"life_sq\"]/data[\"full_sq\"]).replace(np.inf,1)\n",
    "    data[\"kitch_sq\"]=(data[\"kitch_sq\"]/data[\"full_sq\"]).replace(np.inf,1)\n",
    "    data[\"max_floor\"]=(data[\"max_floor\"]/data[\"floor\"]).replace(np.inf,1)\n",
    "    data[\"num_room\"]=(data[\"num_room\"]/data[\"full_sq\"]).replace(np.inf,1)\n",
    "    data.replace(np.inf, np.nan)\n",
    "    data['green_part_2000']=data['green_part_2000'].fillna(data['green_part_1500'])\n",
    "    data['prom_part_5000']=data['prom_part_5000'].fillna(data['prom_part_2000'])\n",
    "    #data=data.apply(yes_1)\n",
    "    medImputer=Imputer(strategy='median')\n",
    "    mfImputer=Imputer(strategy='most_frequent')\n",
    "    data[[\"material\",\"build_year\",\"state\",\"floor\"]]=mfImputer.fit_transform(data[[\"material\",\"build_year\",\"state\",\"floor\"]])\n",
    "    data[[\"life_sq\",\"max_floor\",\"num_room\",\"kitch_sq\"]]=medImputer.fit_transform(data[[\"life_sq\",\"max_floor\",\"num_room\",\"kitch_sq\"]])\n",
    "    data[\"build_year\"]=2017-data[\"build_year\"]\n",
    "    return data   "
   ]
  },
  {
   "cell_type": "code",
   "execution_count": 12,
   "metadata": {
    "collapsed": true
   },
   "outputs": [],
   "source": [
    "def new_features(train):\n",
    "    \n",
    "    #train['rel_floor'] = train['floor'] / train['max_floor'].astype(float)\n",
    "    #train['rel_kitch_sq'] = train['kitch_sq'] / train['full_sq'].astype(float)\n",
    "    train.apartment_name=train.sub_area + train['metro_km_avto'].astype(str)\n",
    "    #train['room_size'] = 1 / train['num_room'].astype(float)\n",
    "    \n",
    "    return train"
   ]
  },
  {
   "cell_type": "code",
   "execution_count": 13,
   "metadata": {
    "collapsed": false
   },
   "outputs": [],
   "source": [
    "def labels(x_train):   \n",
    "    for c in x_train.columns:\n",
    "        if x_train[c].dtype == 'object':\n",
    "            lbl = preprocessing.LabelEncoder()\n",
    "            lbl.fit(list(x_train[c].values))\n",
    "            x_train[c] = lbl.transform(list(x_train[c].values))\n",
    "            #print c\n",
    "            #x_train.drop(c,axis=1,inplace=True)    \n",
    "    return x_train   "
   ]
  },
  {
   "cell_type": "code",
   "execution_count": 14,
   "metadata": {
    "collapsed": true
   },
   "outputs": [],
   "source": [
    "def add_dates(train):\n",
    "    \n",
    "    # Add month-year\n",
    "    month_year = (train.timestamp.dt.month + train.timestamp.dt.year * 100)\n",
    "    month_year_cnt_map = month_year.value_counts().to_dict()\n",
    "    train['month_year_cnt'] = month_year.map(month_year_cnt_map)\n",
    "    \n",
    "    # Add week-year count\n",
    "    week_year = (train.timestamp.dt.weekofyear + train.timestamp.dt.year * 100)\n",
    "    week_year_cnt_map = week_year.value_counts().to_dict()\n",
    "    train['week_year_cnt'] = week_year.map(week_year_cnt_map)\n",
    "    \n",
    "    # Add month and day-of-week\n",
    "    train['month'] = train.timestamp.dt.month\n",
    "    train['dow'] = train.timestamp.dt.dayofweek\n",
    "    \n",
    "    return train\n",
    "    "
   ]
  },
  {
   "cell_type": "code",
   "execution_count": 15,
   "metadata": {
    "collapsed": true
   },
   "outputs": [],
   "source": [
    "def printna(data):\n",
    "    k=len(data)-data.count()\n",
    "    return k[k>0]"
   ]
  },
  {
   "cell_type": "code",
   "execution_count": 16,
   "metadata": {
    "collapsed": true
   },
   "outputs": [],
   "source": [
    "def clean_sq(train):\n",
    "    bad_index = train[(train.life_sq > train.full_sq) | \n",
    "                      (train.life_sq < 5)].index\n",
    "    train.ix[bad_index, \"life_sq\"] = np.NaN\n",
    "\n",
    "    bad_index = train[(train.full_sq > 210) & (train.life_sq / train.full_sq < 0.3) | \n",
    "                      (train.full_sq < 5)].index\n",
    "    train.ix[bad_index, \"full_sq\"] = np.NaN\n",
    "    \n",
    "    bad_index = train[(train.kitch_sq >= train.life_sq) |\n",
    "                      (train.kitch_sq == 0) | \n",
    "                      (train.kitch_sq == 1)].index\n",
    "    train.ix[bad_index, \"kitch_sq\"] = np.NaN\n",
    "    \n",
    "    bad_index = train[train.life_sq > 300].index\n",
    "    train.ix[bad_index, [\"life_sq\", \"full_sq\"]] = np.NaN\n",
    "    \n",
    "    bad_index = train[train.build_year < 1500].index\n",
    "    train.ix[bad_index, \"build_year\"] = np.NaN\n",
    "    \n",
    "    bad_index = train[train.num_room == 0].index \n",
    "    train.ix[bad_index, \"num_room\"] = np.NaN\n",
    "    \n",
    "    bad_index = train[train.max_floor == 0].index\n",
    "    train.ix[bad_index, \"max_floor\"] = np.NaN\n",
    "    \n",
    "    bad_index = train[train.floor > train.max_floor].index\n",
    "    train.ix[bad_index, \"max_floor\"] = np.NaN    \n",
    "    \n",
    "    return(train)    "
   ]
  },
  {
   "cell_type": "code",
   "execution_count": 17,
   "metadata": {
    "collapsed": false
   },
   "outputs": [],
   "source": [
    "def bad_address(data):\n",
    "    data=data.set_index('id')\n",
    "    fx = pd.read_excel('./data/BAD_ADDRESS_FIX.xlsx').drop_duplicates('id').set_index('id')\n",
    "    data.update(fx)\n",
    "    print('Fix: ', data.index.intersection(fx.index).shape[0])\n",
    "    return data.reset_index()"
   ]
  },
  {
   "cell_type": "code",
   "execution_count": 18,
   "metadata": {
    "collapsed": true
   },
   "outputs": [],
   "source": [
    "def month_median(macro):\n",
    "    macro[\"year\"]  = macro[\"timestamp\"].dt.year\n",
    "    macro[\"month\"] = macro[\"timestamp\"].dt.month\n",
    "    macro[\"yearmonth\"] = 100*macro.year + macro.month\n",
    "    macmeds = macro.groupby(\"yearmonth\").median()\n",
    "    return macmeds"
   ]
  },
  {
   "cell_type": "code",
   "execution_count": 19,
   "metadata": {
    "collapsed": true
   },
   "outputs": [],
   "source": [
    "# Parameters\n",
    "micro_humility_factor = 1     #    range from 0 (complete humility) to 1 (no humility)\n",
    "macro_humility_factor = 0.96"
   ]
  },
  {
   "cell_type": "code",
   "execution_count": 122,
   "metadata": {
    "collapsed": false
   },
   "outputs": [
    {
     "name": "stdout",
     "output_type": "stream",
     "text": [
      "('Fix: ', 550)\n",
      "('Fix: ', 149)\n"
     ]
    }
   ],
   "source": [
    "filenames = [\"./data/macro.csv\",\"./data/train.csv/train.csv\",\"./data/test.csv/test.csv\"]\n",
    "[macro, train, test] = read_data(filenames)\n",
    "train, test = map(bad_address, [train, test])\n",
    "train=er10(er10(train))\n",
    "train, test = map(my_transport, [train, test])\n",
    "train, test = map(my_cafe, [train, test])\n",
    "id_test = test.id"
   ]
  },
  {
   "cell_type": "code",
   "execution_count": 123,
   "metadata": {
    "collapsed": false
   },
   "outputs": [],
   "source": [
    "from sklearn import model_selection, preprocessing"
   ]
  },
  {
   "cell_type": "code",
   "execution_count": 124,
   "metadata": {
    "collapsed": false
   },
   "outputs": [
    {
     "data": {
      "text/plain": [
       "2.0    2662\n",
       "1.0    2266\n",
       "3.0    1913\n",
       "4.0     127\n",
       "Name: state, dtype: int64"
      ]
     },
     "execution_count": 124,
     "metadata": {},
     "output_type": "execute_result"
    }
   ],
   "source": [
    "#clean data\n",
    "equal_index = [601,1896,2791]\n",
    "test.ix[equal_index, \"life_sq\"] = test.ix[equal_index, \"full_sq\"]\n",
    "\n",
    "kitch_is_build_year = [13117]\n",
    "train.ix[kitch_is_build_year, \"build_year\"] = train.ix[kitch_is_build_year, \"kitch_sq\"]\n",
    "\n",
    "bad_index = [10076, 11621, 17764, 19390, 24007, 26713, 29172]\n",
    "train.ix[bad_index, \"num_room\"] = np.NaN\n",
    "\n",
    "bad_index = [3174, 7313]\n",
    "test.ix[bad_index, \"num_room\"] = np.NaN\n",
    "\n",
    "[train, test] = [clean_sq(train), clean_sq(test)]\n",
    "\n",
    "train.product_type.value_counts(normalize= True)\n",
    "test.product_type.value_counts(normalize= True)\n",
    "\n",
    "#train, test = map(labels, [train,test])\n",
    "\n",
    "\n",
    "train.floor.describe(percentiles= [0.9999])\n",
    "bad_index = [23584]\n",
    "train.ix[bad_index, \"floor\"] = np.NaN\n",
    "train.material.value_counts()\n",
    "test.material.value_counts()\n",
    "train.state.value_counts()\n",
    "bad_index = train[train.state == 33].index\n",
    "train.ix[bad_index, \"state\"] = np.NaN\n",
    "test.state.value_counts()"
   ]
  },
  {
   "cell_type": "code",
   "execution_count": 125,
   "metadata": {
    "collapsed": true
   },
   "outputs": [],
   "source": [
    "# brings error down a lot by removing extreme price per sqm\n",
    "train.loc[train.full_sq == 0, 'full_sq'] = 50\n",
    "train = train[train.price_doc/train.full_sq <= 600000]\n",
    "train = train[train.price_doc/train.full_sq >= 10000]\n",
    "#mult = .969 train[\"price_doc\"] * mult + 10\n",
    "train[\"persqm\"] = train[\"price_doc\"]/train.full_sq"
   ]
  },
  {
   "cell_type": "code",
   "execution_count": 126,
   "metadata": {
    "collapsed": false
   },
   "outputs": [],
   "source": [
    "[train, test] = [add_dates(train), add_dates(test)]"
   ]
  },
  {
   "cell_type": "code",
   "execution_count": 127,
   "metadata": {
    "collapsed": false
   },
   "outputs": [],
   "source": [
    "# Other feature engineering\n",
    "train, test = my_impute(train), my_impute(test)\n",
    "train, test = new_features(train), new_features(test)\n",
    "v=['hospital_beds_raion']\n",
    "train, test = train.drop(v, axis=1), test.drop(v, axis=1)\n",
    "test.full_sq = test.full_sq.fillna(1.5*test.life_sq)"
   ]
  },
  {
   "cell_type": "code",
   "execution_count": 128,
   "metadata": {
    "collapsed": false
   },
   "outputs": [],
   "source": [
    "macro.ix[:,1:]=macro.ix[:,1:].replace('#!','nan').applymap(str).applymap(lambda x: x.replace(',','.'))\n",
    "macro.ix[:,1:]=macro.ix[:,1:].replace('nan',np.NaN).applymap(float).fillna(0)"
   ]
  },
  {
   "cell_type": "code",
   "execution_count": 129,
   "metadata": {
    "collapsed": false
   },
   "outputs": [
    {
     "data": {
      "text/plain": [
       "product_type                               33\n",
       "preschool_quota                          1596\n",
       "school_quota                             1595\n",
       "raion_build_count_with_material_info     1218\n",
       "build_count_block                        1218\n",
       "build_count_wood                         1218\n",
       "build_count_frame                        1218\n",
       "build_count_brick                        1218\n",
       "build_count_monolith                     1218\n",
       "build_count_panel                        1218\n",
       "build_count_foam                         1218\n",
       "build_count_slag                         1218\n",
       "build_count_mix                          1218\n",
       "raion_build_count_with_builddate_info    1218\n",
       "build_count_before_1920                  1218\n",
       "build_count_1921-1945                    1218\n",
       "build_count_1946-1970                    1218\n",
       "build_count_1971-1995                    1218\n",
       "build_count_after_1995                   1218\n",
       "dtype: int64"
      ]
     },
     "execution_count": 129,
     "metadata": {},
     "output_type": "execute_result"
    }
   ],
   "source": [
    "printna(test)"
   ]
  },
  {
   "cell_type": "code",
   "execution_count": 130,
   "metadata": {
    "collapsed": true
   },
   "outputs": [],
   "source": [
    "from sklearn.preprocessing import StandardScaler\n",
    "from sklearn.pipeline import Pipeline\n",
    "from sklearn.metrics import r2_score\n",
    "from pandas import rolling_median"
   ]
  },
  {
   "cell_type": "code",
   "execution_count": 131,
   "metadata": {
    "collapsed": false
   },
   "outputs": [],
   "source": [
    "def train_model1(train, v_in, xgb_params, num_boost_round):\n",
    "    \n",
    "    v = pd.DataFrame()\n",
    "    v = macro[['timestamp','oil_urals']]\n",
    "    v['v_in'] = v_in\n",
    "    v = v.merge(train[['timestamp','id']])\n",
    "    y_train = np.array(train[\"persqm\"])\n",
    "    x_train = train.drop([\"id\", \"timestamp\", \"price_doc\", \"persqm\"], axis=1)\n",
    "    x_train = labels(x_train).fillna(0)\n",
    "    \n",
    "    k_prior = np.array(v['v_in'])\n",
    "    \n",
    "    X, Y = np.array(x_train), np.array(y_train)/k_prior\n",
    "    Norm = StandardScaler()\n",
    "    \n",
    "    Xt = Norm.fit_transform(X)\n",
    "    Yt = (Y - np.mean(Y))/(max(Y)-min(Y))\n",
    "    dtrain = xgb.DMatrix(Xt, Yt)\n",
    "    model = xgb.train(dict(xgb_params, silent=0), dtrain, num_boost_round)\n",
    "    y1_predict = model.predict(dtrain)\n",
    "    \n",
    "    print r2_score(y1_predict,Yt)\n",
    "    \n",
    "    Y1 = (max(Y)-min(Y))*y1_predict + np.mean(Y)\n",
    "    \n",
    "    df = train[['id','timestamp']].copy()\n",
    "    \n",
    "    df['v'] = Y*v['v_in']/Y1\n",
    "\n",
    "    \n",
    "            \n",
    "    return model, df, Norm, np.mean(Y), (max(Y)-min(Y))"
   ]
  },
  {
   "cell_type": "code",
   "execution_count": 132,
   "metadata": {
    "collapsed": false
   },
   "outputs": [],
   "source": [
    "#import seaborn as sns\n",
    "from sklearn import model_selection, preprocessing\n",
    "import xgboost as xgb\n",
    "xgb_params = {\n",
    "    'eta': 0.05,\n",
    "    'max_depth': 5,\n",
    "    'subsample': 0.7,\n",
    "    'colsample_bytree': 0.7,\n",
    "    'objective': 'reg:linear',\n",
    "    'eval_metric': 'rmse',\n",
    "    'silent': 1\n",
    "}"
   ]
  },
  {
   "cell_type": "code",
   "execution_count": 133,
   "metadata": {
    "collapsed": false
   },
   "outputs": [
    {
     "name": "stderr",
     "output_type": "stream",
     "text": [
      "/home/serzzh/anaconda2/envs/gl-env/lib/python2.7/site-packages/ipykernel/__main__.py:5: SettingWithCopyWarning: \n",
      "A value is trying to be set on a copy of a slice from a DataFrame.\n",
      "Try using .loc[row_indexer,col_indexer] = value instead\n",
      "\n",
      "See the caveats in the documentation: http://pandas.pydata.org/pandas-docs/stable/indexing.html#indexing-view-versus-copy\n"
     ]
    },
    {
     "name": "stdout",
     "output_type": "stream",
     "text": [
      "0.247398401182\n"
     ]
    }
   ],
   "source": [
    "v_in = np.ones(len(macro))\n",
    "\n",
    "model1, df, Norm1, nY_0, nY_1 = train_model1 (train, v_in, xgb_params, num_boost_round=350)"
   ]
  },
  {
   "cell_type": "code",
   "execution_count": 174,
   "metadata": {
    "collapsed": false
   },
   "outputs": [],
   "source": [
    "from sklearn.linear_model import LinearRegression\n",
    "from sklearn.model_selection import cross_val_score\n",
    "from sklearn.model_selection import KFold\n",
    "\n",
    "\n",
    "def train_model2(macro, df, xgb_params, num_boost_round):\n",
    "    \n",
    "    df=df[df['v']>0.6]\n",
    "    df['vmean'] = df['v'].rolling(window=5,center=True).median().fillna(method='bfill').fillna(method='ffill')\n",
    "    v_out = df.groupby('timestamp').aggregate(np.mean).reset_index()\n",
    "    \n",
    "    \n",
    "    minlagscore = -1e28\n",
    "    \n",
    "    for i in xrange(190):\n",
    "        v_out['timestamp'] -= datetime.timedelta(days=1)\n",
    "        #print v_out[['timestamp','vmean']][0:1]\n",
    "        train = macro.merge(v_out[['timestamp','vmean']])\n",
    " \n",
    "        X, Y = np.array(train.ix[:,1:100]), np.array(train[['vmean']])\n",
    "        #Norm = StandardScaler()\n",
    "        #Xt = Norm.fit_transform(X)\n",
    "        \n",
    "        loo = KFold(3)\n",
    "        model = LinearRegression()\n",
    "        scores = cross_val_score(model, Xt, Y, scoring='r2', cv=loo)\n",
    "        \n",
    "        if minlagscore < scores.mean():\n",
    "            minlagscore = scores.mean()\n",
    "            minlag = i\n",
    "        \n",
    "        print i, scores.mean()/1e25, minlagscore/1e25\n",
    "    \n",
    "    print \"Final:\", minlag, minlagscore/1e25\n",
    "        \n",
    "\n",
    "    v_out = df.groupby('timestamp').aggregate(np.mean).reset_index()    \n",
    "    v_out['timestamp'] -= datetime.timedelta(days=minlag)\n",
    "    train = macro.merge(v_out[['timestamp','vmean']])\n",
    "    X, Y = np.array(train.ix[:,1:100]), np.array(train[['vmean']])\n",
    "    Norm = StandardScaler()\n",
    "    Xt = Norm.fit_transform(X)\n",
    "    \n",
    "    model = LinearRegression()\n",
    "    model.fit(Xt,Y)\n",
    "        \n",
    "    Zt = Norm.transform(np.array(macro.ix[:,1:100]))\n",
    "    \n",
    "    y1_predict = model.predict(Zt)\n",
    "    \n",
    "    print r2_score(model.predict(Xt),Y)\n",
    "\n",
    "    v_in = pd.DataFrame()\n",
    "    v_in = macro[['timestamp','oil_urals']]\n",
    "    v_in['vpred'] =  y1_predict\n",
    "            \n",
    "    return model, v_in, Norm"
   ]
  },
  {
   "cell_type": "code",
   "execution_count": 175,
   "metadata": {
    "collapsed": false
   },
   "outputs": [
    {
     "name": "stderr",
     "output_type": "stream",
     "text": [
      "/home/serzzh/anaconda2/envs/gl-env/lib/python2.7/site-packages/ipykernel/__main__.py:9: SettingWithCopyWarning: \n",
      "A value is trying to be set on a copy of a slice from a DataFrame.\n",
      "Try using .loc[row_indexer,col_indexer] = value instead\n",
      "\n",
      "See the caveats in the documentation: http://pandas.pydata.org/pandas-docs/stable/indexing.html#indexing-view-versus-copy\n"
     ]
    },
    {
     "name": "stdout",
     "output_type": "stream",
     "text": [
      "0 -59.6538914595 -59.6538914595\n",
      "1 -161.926490958 -59.6538914595\n",
      "2 -15.3074673117 -15.3074673117\n",
      "3 -362.789773233 -15.3074673117\n",
      "4 -155.909681471 -15.3074673117\n",
      "5 -2029.58664953 -15.3074673117\n",
      "6 -17.7734083779 -15.3074673117\n",
      "7 -152.046477655 -15.3074673117\n",
      "8 -976.531861293 -15.3074673117\n",
      "9 -2.18170466664 -2.18170466664\n",
      "10 -97.4346287545 -2.18170466664\n",
      "11 -219.051023039 -2.18170466664\n",
      "12 -177.131582147 -2.18170466664\n",
      "13 -173.012267098 -2.18170466664\n",
      "14 -359.367031333 -2.18170466664\n",
      "15 -12.4325252115 -2.18170466664\n",
      "16 -469.994308742 -2.18170466664\n",
      "17 -182.178631706 -2.18170466664\n",
      "18 -17.8399264539 -2.18170466664\n",
      "19 -5.00273642348 -2.18170466664\n",
      "20 -26.7817378329 -2.18170466664\n",
      "21 -103.722349167 -2.18170466664\n",
      "22 -527.198118936 -2.18170466664\n",
      "23 -176.68939034 -2.18170466664\n",
      "24 -223.86101875 -2.18170466664\n",
      "25 -694.573109332 -2.18170466664\n",
      "26 -6.58292746196 -2.18170466664\n",
      "27 -284.782103546 -2.18170466664\n",
      "28 -309.038977679 -2.18170466664\n",
      "29 -628.983475615 -2.18170466664\n",
      "30 -53.1355230791 -2.18170466664\n",
      "31 -553.042183225 -2.18170466664\n",
      "32 -108.759904063 -2.18170466664\n",
      "33 -696.203619942 -2.18170466664\n",
      "34 -142.340091053 -2.18170466664\n",
      "35 -509.416368057 -2.18170466664\n",
      "36 -73.1325915393 -2.18170466664\n",
      "37 -65.4277912235 -2.18170466664\n",
      "38 -81.2531037743 -2.18170466664\n",
      "39 -49.7421347159 -2.18170466664\n",
      "40 -569.410940966 -2.18170466664\n",
      "41 -6.1383801701 -2.18170466664\n",
      "42 -20.4376798877 -2.18170466664\n",
      "43 -77.3755055242 -2.18170466664\n",
      "44 -113.827303427 -2.18170466664\n",
      "45 -515.720038599 -2.18170466664\n",
      "46 -27.3517655641 -2.18170466664\n",
      "47 -245.716207539 -2.18170466664\n",
      "48 -240.855656878 -2.18170466664\n",
      "49 -121.917158735 -2.18170466664\n",
      "50 -447.879297185 -2.18170466664\n",
      "51 -67.3243605668 -2.18170466664\n",
      "52 -493.181815275 -2.18170466664\n",
      "53 -19.4122871661 -2.18170466664\n",
      "54 -52.6501707563 -2.18170466664\n",
      "55 -88.1815940012 -2.18170466664\n",
      "56 -100.639213611 -2.18170466664\n",
      "57 -173.390961151 -2.18170466664\n",
      "58 -95.666537557 -2.18170466664\n",
      "59 -1327.20494792 -2.18170466664\n",
      "60 -83.3237823258 -2.18170466664\n",
      "61 -156.112596033 -2.18170466664\n",
      "62 -2.32252822414 -2.18170466664\n",
      "63 -33.0544501817 -2.18170466664\n",
      "64 -62.5504474404 -2.18170466664\n",
      "65 -73.7135306546 -2.18170466664\n",
      "66 -35.6163092106 -2.18170466664\n",
      "67 -36.2045855465 -2.18170466664\n",
      "68 -11.5406926993 -2.18170466664\n",
      "69 -40.8742609284 -2.18170466664\n",
      "70 -60.2009224105 -2.18170466664\n",
      "71 -1089.50140355 -2.18170466664\n",
      "72 -19.8362751239 -2.18170466664\n",
      "73 -13.801528222 -2.18170466664\n",
      "74 -153.865592015 -2.18170466664\n",
      "75 -452.815080762 -2.18170466664\n",
      "76 -44.2271039926 -2.18170466664\n",
      "77 -631.828919465 -2.18170466664\n",
      "78 -590.005947757 -2.18170466664\n",
      "79 -2375.83302487 -2.18170466664\n",
      "80 -1556.28681829 -2.18170466664\n",
      "81 -502.314807844 -2.18170466664\n",
      "82 -147.933951656 -2.18170466664\n",
      "83 -726.858368618 -2.18170466664\n",
      "84 -72.0676172952 -2.18170466664\n",
      "85 -218.431623038 -2.18170466664\n",
      "86 -72.6916899768 -2.18170466664\n",
      "87 -21.2459755181 -2.18170466664\n",
      "88 -1619.52059952 -2.18170466664\n",
      "89 -88.8510067813 -2.18170466664\n",
      "90 -1158.07535543 -2.18170466664\n",
      "91 -1337.10329878 -2.18170466664\n",
      "92 -37.3260368851 -2.18170466664\n",
      "93 -617.625110678 -2.18170466664\n",
      "94 -68.5487881418 -2.18170466664\n",
      "95 -476.892103093 -2.18170466664\n",
      "96 -878.28889327 -2.18170466664\n",
      "97 -527.886694343 -2.18170466664\n",
      "98 -109.969977074 -2.18170466664\n",
      "99 -1250.15198456 -2.18170466664\n",
      "100 -915.596463431 -2.18170466664\n",
      "101 -9.24111261083 -2.18170466664\n",
      "102 -1262.46571897 -2.18170466664\n",
      "103 -8.1561554217 -2.18170466664\n",
      "104 -88.320504538 -2.18170466664\n",
      "105 -392.038273341 -2.18170466664\n",
      "106 -478.638597038 -2.18170466664\n",
      "107 -73.2283798161 -2.18170466664\n",
      "108 -190.404904914 -2.18170466664\n",
      "109 -14.9520385477 -2.18170466664\n",
      "110 -18.7493183112 -2.18170466664\n",
      "111 -11.0852033784 -2.18170466664\n",
      "112 -1187.68427231 -2.18170466664\n",
      "113 -559.436720443 -2.18170466664\n",
      "114 -315.494549218 -2.18170466664\n",
      "115 -423.638583011 -2.18170466664\n",
      "116 -1022.74565034 -2.18170466664\n",
      "117 -125.136095634 -2.18170466664\n",
      "118 -135.898411564 -2.18170466664\n",
      "119 -578.567748623 -2.18170466664\n",
      "120 -470.946848412 -2.18170466664\n",
      "121 -17.2012457238 -2.18170466664\n",
      "122 -19.9370601723 -2.18170466664\n",
      "123 -1155.97471042 -2.18170466664\n",
      "124 -16.8997286217 -2.18170466664\n",
      "125 -76.147718833 -2.18170466664\n",
      "126 -226.549744889 -2.18170466664\n",
      "127 -221.350228329 -2.18170466664\n",
      "128 -618.72367185 -2.18170466664\n",
      "129 -265.814394008 -2.18170466664\n",
      "130 -277.246215349 -2.18170466664\n",
      "131 -40.9929514257 -2.18170466664\n",
      "132 -295.441824043 -2.18170466664\n",
      "133 -222.778711203 -2.18170466664\n",
      "134 -423.294664901 -2.18170466664\n",
      "135 -119.838215082 -2.18170466664\n",
      "136 -1755.38999258 -2.18170466664\n",
      "137 -190.969259464 -2.18170466664\n",
      "138 -3364.65054739 -2.18170466664\n",
      "139 -50.3719529308 -2.18170466664\n",
      "140 -263.67173989 -2.18170466664\n",
      "141 -1365.04137946 -2.18170466664\n",
      "142 -256.213197259 -2.18170466664\n",
      "143 -235.973446178 -2.18170466664\n",
      "144 -335.641649057 -2.18170466664\n",
      "145 -1548.50842023 -2.18170466664\n",
      "146 -129.308755943 -2.18170466664\n",
      "147 -691.566476615 -2.18170466664\n",
      "148 -49.4777750168 -2.18170466664\n",
      "149 -925.624626313 -2.18170466664\n",
      "150 -118.93126735 -2.18170466664\n",
      "151 -640.578439824 -2.18170466664\n",
      "152 -4149.19416116 -2.18170466664\n",
      "153 -1352.42895787 -2.18170466664\n",
      "154 -1552.4584742 -2.18170466664\n",
      "155 -763.646224933 -2.18170466664\n",
      "156 -277.195475117 -2.18170466664\n",
      "157 -152.087615177 -2.18170466664\n",
      "158 -454.635565298 -2.18170466664\n",
      "159 -67.1038489883 -2.18170466664\n",
      "160 -1098.23455035 -2.18170466664\n",
      "161 -81.8678911516 -2.18170466664\n",
      "162 -61.5124755735 -2.18170466664\n",
      "163 -453.068080616 -2.18170466664\n",
      "164 -178.743128872 -2.18170466664\n",
      "165 -787.088651113 -2.18170466664\n",
      "166 -47.841406011 -2.18170466664\n",
      "167 -1180.9034535 -2.18170466664\n",
      "168 -177.133453051 -2.18170466664\n",
      "169 -503.446226646 -2.18170466664\n",
      "170 -441.248917356 -2.18170466664\n",
      "171 -79.0693483595 -2.18170466664\n",
      "172 -3.86178166461 -2.18170466664\n",
      "173 -1276.24328863 -2.18170466664\n",
      "174 -19.795877143 -2.18170466664\n",
      "175 -23.2333927329 -2.18170466664\n",
      "176 -205.480661561 -2.18170466664\n",
      "177 -208.508172477 -2.18170466664\n",
      "178 -295.54610089 -2.18170466664\n",
      "179 -731.406364011 -2.18170466664\n",
      "180 -218.679897682 -2.18170466664\n",
      "181 -499.751811684 -2.18170466664\n",
      "182 -102.502856041 -2.18170466664\n",
      "183 -176.041303612 -2.18170466664\n",
      "184 -152.698496374 -2.18170466664\n",
      "185 -54.1095948672 -2.18170466664\n",
      "186 -64.8830699171 -2.18170466664\n",
      "187 -160.477560857 -2.18170466664\n",
      "188 -58.3364073597 -2.18170466664\n",
      "189 -6.83813360751 -2.18170466664\n",
      "Final: 9 -2.18170466664\n",
      "0.155036148762\n"
     ]
    },
    {
     "name": "stderr",
     "output_type": "stream",
     "text": [
      "/home/serzzh/anaconda2/envs/gl-env/lib/python2.7/site-packages/ipykernel/__main__.py:55: SettingWithCopyWarning: \n",
      "A value is trying to be set on a copy of a slice from a DataFrame.\n",
      "Try using .loc[row_indexer,col_indexer] = value instead\n",
      "\n",
      "See the caveats in the documentation: http://pandas.pydata.org/pandas-docs/stable/indexing.html#indexing-view-versus-copy\n"
     ]
    }
   ],
   "source": [
    "model2, v_in, Norm2  = train_model2 (macro, df, xgb_params, num_boost_round=500)"
   ]
  },
  {
   "cell_type": "code",
   "execution_count": 120,
   "metadata": {
    "collapsed": false
   },
   "outputs": [
    {
     "name": "stderr",
     "output_type": "stream",
     "text": [
      "/home/serzzh/anaconda2/envs/gl-env/lib/python2.7/site-packages/ipykernel/__main__.py:5: SettingWithCopyWarning: \n",
      "A value is trying to be set on a copy of a slice from a DataFrame.\n",
      "Try using .loc[row_indexer,col_indexer] = value instead\n",
      "\n",
      "See the caveats in the documentation: http://pandas.pydata.org/pandas-docs/stable/indexing.html#indexing-view-versus-copy\n"
     ]
    },
    {
     "name": "stdout",
     "output_type": "stream",
     "text": [
      "0.254467156823\n"
     ]
    }
   ],
   "source": [
    "model1, v_out, Norm1, nY_0, nY_1 = train_model1 (train, v_in['vpred'], xgb_params, num_boost_round=350)\n"
   ]
  },
  {
   "cell_type": "raw",
   "metadata": {
    "collapsed": true
   },
   "source": [
    "def linregcorr(data, datay, lag=0):\n",
    "    \"\"\" Lag-N cross correlation. \n",
    "    Parameters\n",
    "    ----------\n",
    "    lag : int, default 0\n",
    "    datax, datay : pandas.Series objects of equal length\n",
    "\n",
    "    Returns\n",
    "    ----------\n",
    "    crosscorr : float\n",
    "    \"\"\"\n",
    "    return datax.corr(datay.shift(lag))"
   ]
  },
  {
   "cell_type": "raw",
   "metadata": {
    "collapsed": true
   },
   "source": [
    "xcov_monthly = [crosscorr(datax, datay, lag=i) for i in range(12)]"
   ]
  },
  {
   "cell_type": "code",
   "execution_count": 121,
   "metadata": {
    "collapsed": false
   },
   "outputs": [
    {
     "name": "stdout",
     "output_type": "stream",
     "text": [
      "(7662, 292)\n",
      "      timestamp  oil_urals          v_in     id\n",
      "0    2015-07-01    59.1295  1.104596e+00  30474\n",
      "1    2015-07-01    59.1295  1.104596e+00  30475\n",
      "2    2015-07-01    59.1295  1.104596e+00  30476\n",
      "3    2015-07-01    59.1295  1.104596e+00  30477\n",
      "4    2015-07-01    59.1295  1.104596e+00  30478\n",
      "5    2015-07-01    59.1295  1.104596e+00  30479\n",
      "6    2015-07-01    59.1295  1.104596e+00  30480\n",
      "7    2015-07-01    59.1295  1.104596e+00  30481\n",
      "8    2015-07-01    59.1295  1.104596e+00  30482\n",
      "9    2015-07-01    59.1295  1.104596e+00  30483\n",
      "10   2015-07-01    59.1295  1.104596e+00  30484\n",
      "11   2015-07-01    59.1295  1.104596e+00  30485\n",
      "12   2015-07-01    59.1295  1.104596e+00  30486\n",
      "13   2015-07-01    59.1295  1.104596e+00  30487\n",
      "14   2015-07-01    59.1295  1.104596e+00  30488\n",
      "15   2015-07-02    59.1295  1.104596e+00  30489\n",
      "16   2015-07-02    59.1295  1.104596e+00  30490\n",
      "17   2015-07-02    59.1295  1.104596e+00  30491\n",
      "18   2015-07-02    59.1295  1.104596e+00  30492\n",
      "19   2015-07-02    59.1295  1.104596e+00  30493\n",
      "20   2015-07-02    59.1295  1.104596e+00  30494\n",
      "21   2015-07-02    59.1295  1.104596e+00  30495\n",
      "22   2015-07-02    59.1295  1.104596e+00  30496\n",
      "23   2015-07-02    59.1295  1.104596e+00  30497\n",
      "24   2015-07-02    59.1295  1.104596e+00  30498\n",
      "25   2015-07-02    59.1295  1.104596e+00  30499\n",
      "26   2015-07-02    59.1295  1.104596e+00  30500\n",
      "27   2015-07-02    59.1295  1.104596e+00  30501\n",
      "28   2015-07-02    59.1295  1.104596e+00  30502\n",
      "29   2015-07-02    59.1295  1.104596e+00  30503\n",
      "...         ...        ...           ...    ...\n",
      "7632 2016-05-20    36.6171  1.161246e+13  38106\n",
      "7633 2016-05-20    36.6171  1.161246e+13  38107\n",
      "7634 2016-05-20    36.6171  1.161246e+13  38108\n",
      "7635 2016-05-20    36.6171  1.161246e+13  38109\n",
      "7636 2016-05-21    36.6171  1.161246e+13  38110\n",
      "7637 2016-05-21    36.6171  1.161246e+13  38111\n",
      "7638 2016-05-21    36.6171  1.161246e+13  38112\n",
      "7639 2016-05-21    36.6171  1.161246e+13  38113\n",
      "7640 2016-05-23    36.6171  1.161246e+13  38114\n",
      "7641 2016-05-23    36.6171  1.161246e+13  38115\n",
      "7642 2016-05-23    36.6171  1.161246e+13  38116\n",
      "7643 2016-05-23    36.6171  1.161246e+13  38117\n",
      "7644 2016-05-23    36.6171  1.161246e+13  38118\n",
      "7645 2016-05-23    36.6171  1.161246e+13  38119\n",
      "7646 2016-05-23    36.6171  1.161246e+13  38120\n",
      "7647 2016-05-23    36.6171  1.161246e+13  38121\n",
      "7648 2016-05-23    36.6171  1.161246e+13  38122\n",
      "7649 2016-05-24    36.6171  1.161246e+13  38123\n",
      "7650 2016-05-24    36.6171  1.161246e+13  38124\n",
      "7651 2016-05-24    36.6171  1.161246e+13  38125\n",
      "7652 2016-05-24    36.6171  1.161246e+13  38126\n",
      "7653 2016-05-25    36.6171  1.161246e+13  38127\n",
      "7654 2016-05-25    36.6171  1.161246e+13  38128\n",
      "7655 2016-05-25    36.6171  1.161246e+13  38129\n",
      "7656 2016-05-26    36.6171  1.161246e+13  38130\n",
      "7657 2016-05-26    36.6171  1.161246e+13  38131\n",
      "7658 2016-05-28    36.6171  1.161246e+13  38132\n",
      "7659 2016-05-30    36.6171  1.161246e+13  38133\n",
      "7660 2016-05-30    36.6171  1.161246e+13  38134\n",
      "7661 2016-05-30    36.6171  1.161246e+13  38135\n",
      "\n",
      "[7662 rows x 4 columns]\n",
      "      id     price_doc\n",
      "0  30474  5.888043e+06\n",
      "1  30475  8.352992e+06\n",
      "2  30476  4.973298e+06\n",
      "3  30477  5.715951e+06\n",
      "4  30478  4.905553e+06\n"
     ]
    },
    {
     "name": "stderr",
     "output_type": "stream",
     "text": [
      "/home/serzzh/anaconda2/envs/gl-env/lib/python2.7/site-packages/ipykernel/__main__.py:16: SettingWithCopyWarning: \n",
      "A value is trying to be set on a copy of a slice from a DataFrame.\n",
      "Try using .loc[row_indexer,col_indexer] = value instead\n",
      "\n",
      "See the caveats in the documentation: http://pandas.pydata.org/pandas-docs/stable/indexing.html#indexing-view-versus-copy\n",
      "/home/serzzh/anaconda2/envs/gl-env/lib/python2.7/site-packages/ipykernel/__main__.py:17: SettingWithCopyWarning: \n",
      "A value is trying to be set on a copy of a slice from a DataFrame.\n",
      "Try using .loc[row_indexer,col_indexer] = value instead\n",
      "\n",
      "See the caveats in the documentation: http://pandas.pydata.org/pandas-docs/stable/indexing.html#indexing-view-versus-copy\n"
     ]
    }
   ],
   "source": [
    "x_test = test.drop([\"id\", \"timestamp\"], axis=1)\n",
    "x_test = labels(x_test).fillna(0)\n",
    "X_test=np.array(x_test)\n",
    "print X_test.shape\n",
    "Xt_test=Norm1.transform(X_test)\n",
    "dtest = xgb.DMatrix(Xt_test)\n",
    "y_predict = nY_1*model1.predict(dtest) + nY_0\n",
    "\n",
    "Z = np.array(macro.ix[:,1:100])\n",
    "#Zt = Norm2.transform(Z)\n",
    "k_predict = model2.predict(Z)\n",
    "\n",
    "\n",
    "v = pd.DataFrame()\n",
    "v = macro[['timestamp','oil_urals']]\n",
    "v['v_in'] = k_predict\n",
    "v['timestamp'] += datetime.timedelta(days=67)\n",
    "v = v.merge(test[['timestamp','id']])\n",
    "print v\n",
    "\n",
    "\n",
    "\n",
    "Y_test = y_predict*test[\"full_sq\"]*v['v_in']\n",
    "result = pd.DataFrame({'id': id_test, 'price_doc': Y_test})\n",
    "print result.head()\n",
    "result.to_csv('unadj.csv', index=False)\n"
   ]
  },
  {
   "cell_type": "code",
   "execution_count": 50,
   "metadata": {
    "collapsed": false
   },
   "outputs": [],
   "source": [
    "import statsmodels.api as sm\n",
    "mdata=sm.datasets.macrodata.load().data\n",
    "endog = np.log(mdata['m1'])\n",
    "exog = np.column_stack([np.log(mdata['realgdp']),\n",
    "np.log(mdata['cpi'])])\n",
    "exog = sm.add_constant(exog, prepend=True)\n",
    "res1 = sm.OLS(endog, exog).fit()\n",
    "print res1.summary()"
   ]
  },
  {
   "cell_type": "code",
   "execution_count": null,
   "metadata": {
    "collapsed": true
   },
   "outputs": [],
   "source": []
  },
  {
   "cell_type": "code",
   "execution_count": null,
   "metadata": {
    "collapsed": true
   },
   "outputs": [],
   "source": []
  }
 ],
 "metadata": {
  "kernelspec": {
   "display_name": "Python 2",
   "language": "python",
   "name": "python2"
  },
  "language_info": {
   "codemirror_mode": {
    "name": "ipython",
    "version": 2
   },
   "file_extension": ".py",
   "mimetype": "text/x-python",
   "name": "python",
   "nbconvert_exporter": "python",
   "pygments_lexer": "ipython2",
   "version": "2.7.13"
  }
 },
 "nbformat": 4,
 "nbformat_minor": 0
}
