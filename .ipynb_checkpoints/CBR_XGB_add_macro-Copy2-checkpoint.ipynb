{
 "cells": [
  {
   "cell_type": "code",
   "execution_count": 1,
   "metadata": {
    "collapsed": false
   },
   "outputs": [],
   "source": [
    "import pandas as pd\n",
    "import numpy as np\n",
    "import xmltodict"
   ]
  },
  {
   "cell_type": "code",
   "execution_count": 2,
   "metadata": {
    "collapsed": false,
    "scrolled": true
   },
   "outputs": [],
   "source": [
    "import urllib2\n",
    "import datetime"
   ]
  },
  {
   "cell_type": "code",
   "execution_count": 3,
   "metadata": {
    "collapsed": true
   },
   "outputs": [],
   "source": [
    "def read_data(filenames):\n",
    "    arrays = [0,0,0]\n",
    "    for i in xrange(len(filenames)):\n",
    "        arrays[i] = pd.read_csv(filenames[i], parse_dates=['timestamp'])\n",
    "    return arrays"
   ]
  },
  {
   "cell_type": "code",
   "execution_count": 4,
   "metadata": {
    "collapsed": false
   },
   "outputs": [],
   "source": [
    "def my_transport(data):\n",
    "    data[\"metro_km_walk\"]=data[\"metro_km_walk\"].fillna(data[\"metro_km_avto\"])\n",
    "    data[\"metro_min_walk\"]=data[\"metro_min_walk\"].fillna(data[\"metro_km_avto\"]*12)\n",
    "    data[\"railroad_station_walk_km\"]=data[\"railroad_station_walk_km\"].fillna(data[\"railroad_station_avto_km\"])\n",
    "    data[\"railroad_station_walk_min\"]=data[\"railroad_station_walk_min\"].fillna(data[\"railroad_station_avto_km\"]*12)\n",
    "    data[\"ID_railroad_station_walk\"]=data[\"ID_railroad_station_walk\"].fillna(data[\"ID_railroad_station_avto\"])\n",
    "    return data"
   ]
  },
  {
   "cell_type": "code",
   "execution_count": 5,
   "metadata": {
    "collapsed": false
   },
   "outputs": [],
   "source": [
    "from sklearn.preprocessing import Imputer\n",
    "def my_cafe(data):\n",
    "    st0=['cafe_sum_5000_min_price_avg','cafe_sum_5000_max_price_avg','cafe_avg_price_5000']\n",
    "    l=['5000','3000','2000','1500','1000','500']\n",
    "    medImputer=Imputer(strategy='median')\n",
    "    data[st0]=medImputer.fit_transform(data[st0])\n",
    "    for i in xrange(len(l)-1):\n",
    "        st1=[st.replace('5000',str(l[i+1])) for st in st0]\n",
    "        st2=[st.replace('5000',str(l[i])) for st in st0]\n",
    "        for k in xrange(len(st1)):\n",
    "            data[st1[k]]=data[st1[k]].fillna(data[st2[k]])\n",
    "    return data        "
   ]
  },
  {
   "cell_type": "code",
   "execution_count": 6,
   "metadata": {
    "collapsed": false
   },
   "outputs": [],
   "source": [
    "def er10(data):\n",
    "    err = (data.full_sq>data.life_sq*10)&(data.life_sq>2)\n",
    "    data.ix[err,'full_sq'] = data.ix[err,'full_sq']/10\n",
    "    return data"
   ]
  },
  {
   "cell_type": "code",
   "execution_count": 7,
   "metadata": {
    "collapsed": true
   },
   "outputs": [],
   "source": [
    "def my_impute(data):\n",
    "    data[\"floor\"]=data[\"floor\"].fillna(data[\"max_floor\"])\n",
    "    data[\"life_sq\"]=(data[\"life_sq\"]/data[\"full_sq\"]).replace(np.inf,1)\n",
    "    data[\"kitch_sq\"]=(data[\"kitch_sq\"]/data[\"full_sq\"]).replace(np.inf,1)\n",
    "    data[\"max_floor\"]=(data[\"max_floor\"]/data[\"floor\"]).replace(np.inf,1)\n",
    "    data[\"num_room\"]=(data[\"num_room\"]/data[\"full_sq\"]).replace(np.inf,1)\n",
    "    data.replace(np.inf, np.nan)\n",
    "    data['green_part_2000']=data['green_part_2000'].fillna(data['green_part_1500'])\n",
    "    data['prom_part_5000']=data['prom_part_5000'].fillna(data['prom_part_2000'])\n",
    "    #data=data.apply(yes_1)\n",
    "    medImputer=Imputer(strategy='median')\n",
    "    mfImputer=Imputer(strategy='most_frequent')\n",
    "    data[[\"material\",\"build_year\",\"state\",\"floor\"]]=mfImputer.fit_transform(data[[\"material\",\"build_year\",\"state\",\"floor\"]])\n",
    "    data[[\"life_sq\",\"max_floor\",\"num_room\",\"kitch_sq\"]]=medImputer.fit_transform(data[[\"life_sq\",\"max_floor\",\"num_room\",\"kitch_sq\"]])\n",
    "    data[\"build_year\"]=2017-data[\"build_year\"]\n",
    "    return data   "
   ]
  },
  {
   "cell_type": "code",
   "execution_count": 8,
   "metadata": {
    "collapsed": true
   },
   "outputs": [],
   "source": [
    "def new_features(train):\n",
    "    \n",
    "    #train['rel_floor'] = train['floor'] / train['max_floor'].astype(float)\n",
    "    #train['rel_kitch_sq'] = train['kitch_sq'] / train['full_sq'].astype(float)\n",
    "    train.apartment_name=train.sub_area + train['metro_km_avto'].astype(str)\n",
    "    #train['room_size'] = 1 / train['num_room'].astype(float)\n",
    "    \n",
    "    return train"
   ]
  },
  {
   "cell_type": "code",
   "execution_count": 9,
   "metadata": {
    "collapsed": false
   },
   "outputs": [],
   "source": [
    "def labels(x_train):   \n",
    "    for c in x_train.columns:\n",
    "        if x_train[c].dtype == 'object':\n",
    "            lbl = preprocessing.LabelEncoder()\n",
    "            lbl.fit(list(x_train[c].values))\n",
    "            x_train[c] = lbl.transform(list(x_train[c].values))\n",
    "            #print c\n",
    "            #x_train.drop(c,axis=1,inplace=True)    \n",
    "    return x_train   "
   ]
  },
  {
   "cell_type": "code",
   "execution_count": 10,
   "metadata": {
    "collapsed": true
   },
   "outputs": [],
   "source": [
    "def add_dates(train):\n",
    "    \n",
    "    # Add month-year\n",
    "    month_year = (train.timestamp.dt.month + train.timestamp.dt.year * 100)\n",
    "    month_year_cnt_map = month_year.value_counts().to_dict()\n",
    "    train['month_year_cnt'] = month_year.map(month_year_cnt_map)\n",
    "    \n",
    "    # Add week-year count\n",
    "    week_year = (train.timestamp.dt.weekofyear + train.timestamp.dt.year * 100)\n",
    "    week_year_cnt_map = week_year.value_counts().to_dict()\n",
    "    train['week_year_cnt'] = week_year.map(week_year_cnt_map)\n",
    "    \n",
    "    # Add month and day-of-week\n",
    "    train['month'] = train.timestamp.dt.month\n",
    "    train['dow'] = train.timestamp.dt.dayofweek\n",
    "    \n",
    "    return train\n",
    "    "
   ]
  },
  {
   "cell_type": "code",
   "execution_count": 11,
   "metadata": {
    "collapsed": true
   },
   "outputs": [],
   "source": [
    "def printna(data):\n",
    "    k=len(data)-data.count()\n",
    "    return k[k>0]"
   ]
  },
  {
   "cell_type": "code",
   "execution_count": 12,
   "metadata": {
    "collapsed": true
   },
   "outputs": [],
   "source": [
    "def clean_sq(train):\n",
    "    bad_index = train[(train.life_sq > train.full_sq) | \n",
    "                      (train.life_sq < 5)].index\n",
    "    train.ix[bad_index, \"life_sq\"] = np.NaN\n",
    "\n",
    "    bad_index = train[(train.full_sq > 210) & (train.life_sq / train.full_sq < 0.3) | \n",
    "                      (train.full_sq < 5)].index\n",
    "    train.ix[bad_index, \"full_sq\"] = np.NaN\n",
    "    \n",
    "    bad_index = train[(train.kitch_sq >= train.life_sq) |\n",
    "                      (train.kitch_sq == 0) | \n",
    "                      (train.kitch_sq == 1)].index\n",
    "    train.ix[bad_index, \"kitch_sq\"] = np.NaN\n",
    "    \n",
    "    bad_index = train[train.life_sq > 300].index\n",
    "    train.ix[bad_index, [\"life_sq\", \"full_sq\"]] = np.NaN\n",
    "    \n",
    "    bad_index = train[train.build_year < 1500].index\n",
    "    train.ix[bad_index, \"build_year\"] = np.NaN\n",
    "    \n",
    "    bad_index = train[train.num_room == 0].index \n",
    "    train.ix[bad_index, \"num_room\"] = np.NaN\n",
    "    \n",
    "    bad_index = train[train.max_floor == 0].index\n",
    "    train.ix[bad_index, \"max_floor\"] = np.NaN\n",
    "    \n",
    "    bad_index = train[train.floor > train.max_floor].index\n",
    "    train.ix[bad_index, \"max_floor\"] = np.NaN    \n",
    "    \n",
    "    return(train)    "
   ]
  },
  {
   "cell_type": "code",
   "execution_count": 13,
   "metadata": {
    "collapsed": false
   },
   "outputs": [],
   "source": [
    "def bad_address(data):\n",
    "    data=data.set_index('id')\n",
    "    fx = pd.read_excel('./data/BAD_ADDRESS_FIX.xlsx').drop_duplicates('id').set_index('id')\n",
    "    data.update(fx)\n",
    "    print('Fix: ', data.index.intersection(fx.index).shape[0])\n",
    "    return data.reset_index()"
   ]
  },
  {
   "cell_type": "code",
   "execution_count": 14,
   "metadata": {
    "collapsed": true
   },
   "outputs": [],
   "source": [
    "def month_median(macro):\n",
    "    macro[\"year\"]  = macro[\"timestamp\"].dt.year\n",
    "    macro[\"month\"] = macro[\"timestamp\"].dt.month\n",
    "    macro[\"yearmonth\"] = 100*macro.year + macro.month\n",
    "    macmeds = macro.groupby(\"yearmonth\").median()\n",
    "    return macmeds"
   ]
  },
  {
   "cell_type": "code",
   "execution_count": 15,
   "metadata": {
    "collapsed": true
   },
   "outputs": [],
   "source": [
    "# Parameters\n",
    "micro_humility_factor = 1     #    range from 0 (complete humility) to 1 (no humility)\n",
    "macro_humility_factor = 0.96"
   ]
  },
  {
   "cell_type": "code",
   "execution_count": 16,
   "metadata": {
    "collapsed": false
   },
   "outputs": [
    {
     "name": "stdout",
     "output_type": "stream",
     "text": [
      "('Fix: ', 550)\n",
      "('Fix: ', 149)\n"
     ]
    }
   ],
   "source": [
    "filenames = [\"./data/macro.csv\",\"./data/train.csv/train.csv\",\"./data/test.csv/test.csv\"]\n",
    "[macro, train, test] = read_data(filenames)\n",
    "train, test = map(bad_address, [train, test])\n",
    "train=er10(er10(train))\n",
    "train, test = map(my_transport, [train, test])\n",
    "train, test = map(my_cafe, [train, test])\n",
    "id_test = test.id"
   ]
  },
  {
   "cell_type": "code",
   "execution_count": 17,
   "metadata": {
    "collapsed": false
   },
   "outputs": [],
   "source": [
    "from sklearn import model_selection, preprocessing"
   ]
  },
  {
   "cell_type": "code",
   "execution_count": 18,
   "metadata": {
    "collapsed": false
   },
   "outputs": [
    {
     "data": {
      "text/plain": [
       "2.0    2662\n",
       "1.0    2266\n",
       "3.0    1913\n",
       "4.0     127\n",
       "Name: state, dtype: int64"
      ]
     },
     "execution_count": 18,
     "metadata": {},
     "output_type": "execute_result"
    }
   ],
   "source": [
    "#clean data\n",
    "equal_index = [601,1896,2791]\n",
    "test.ix[equal_index, \"life_sq\"] = test.ix[equal_index, \"full_sq\"]\n",
    "\n",
    "kitch_is_build_year = [13117]\n",
    "train.ix[kitch_is_build_year, \"build_year\"] = train.ix[kitch_is_build_year, \"kitch_sq\"]\n",
    "\n",
    "bad_index = [10076, 11621, 17764, 19390, 24007, 26713, 29172]\n",
    "train.ix[bad_index, \"num_room\"] = np.NaN\n",
    "\n",
    "bad_index = [3174, 7313]\n",
    "test.ix[bad_index, \"num_room\"] = np.NaN\n",
    "\n",
    "[train, test] = [clean_sq(train), clean_sq(test)]\n",
    "\n",
    "train.product_type.value_counts(normalize= True)\n",
    "test.product_type.value_counts(normalize= True)\n",
    "\n",
    "#train, test = map(labels, [train,test])\n",
    "\n",
    "\n",
    "train.floor.describe(percentiles= [0.9999])\n",
    "bad_index = [23584]\n",
    "train.ix[bad_index, \"floor\"] = np.NaN\n",
    "train.material.value_counts()\n",
    "test.material.value_counts()\n",
    "train.state.value_counts()\n",
    "bad_index = train[train.state == 33].index\n",
    "train.ix[bad_index, \"state\"] = np.NaN\n",
    "test.state.value_counts()"
   ]
  },
  {
   "cell_type": "code",
   "execution_count": 19,
   "metadata": {
    "collapsed": true
   },
   "outputs": [],
   "source": [
    "# brings error down a lot by removing extreme price per sqm\n",
    "train.loc[train.full_sq == 0, 'full_sq'] = 50\n",
    "train = train[train.price_doc/train.full_sq <= 600000]\n",
    "train = train[train.price_doc/train.full_sq >= 10000]\n",
    "#mult = .969 train[\"price_doc\"] * mult + 10\n",
    "train[\"persqm\"] = train[\"price_doc\"]/train.full_sq"
   ]
  },
  {
   "cell_type": "code",
   "execution_count": 20,
   "metadata": {
    "collapsed": false
   },
   "outputs": [],
   "source": [
    "[train, test] = [add_dates(train), add_dates(test)]"
   ]
  },
  {
   "cell_type": "code",
   "execution_count": 21,
   "metadata": {
    "collapsed": false
   },
   "outputs": [],
   "source": [
    "# Other feature engineering\n",
    "train, test = my_impute(train), my_impute(test)\n",
    "train, test = new_features(train), new_features(test)\n",
    "v=['hospital_beds_raion']\n",
    "train, test = train.drop(v, axis=1), test.drop(v, axis=1)\n",
    "test.full_sq = test.full_sq.fillna(1.5*test.life_sq)"
   ]
  },
  {
   "cell_type": "code",
   "execution_count": 22,
   "metadata": {
    "collapsed": false
   },
   "outputs": [],
   "source": [
    "macro.ix[:,1:]=macro.ix[:,1:].replace('#!','nan').applymap(str).applymap(lambda x: x.replace(',','.'))\n",
    "macro.ix[:,1:]=macro.ix[:,1:].replace('nan',np.NaN).applymap(float).fillna(0)"
   ]
  },
  {
   "cell_type": "code",
   "execution_count": 23,
   "metadata": {
    "collapsed": false
   },
   "outputs": [
    {
     "data": {
      "text/plain": [
       "product_type                               33\n",
       "preschool_quota                          1596\n",
       "school_quota                             1595\n",
       "raion_build_count_with_material_info     1218\n",
       "build_count_block                        1218\n",
       "build_count_wood                         1218\n",
       "build_count_frame                        1218\n",
       "build_count_brick                        1218\n",
       "build_count_monolith                     1218\n",
       "build_count_panel                        1218\n",
       "build_count_foam                         1218\n",
       "build_count_slag                         1218\n",
       "build_count_mix                          1218\n",
       "raion_build_count_with_builddate_info    1218\n",
       "build_count_before_1920                  1218\n",
       "build_count_1921-1945                    1218\n",
       "build_count_1946-1970                    1218\n",
       "build_count_1971-1995                    1218\n",
       "build_count_after_1995                   1218\n",
       "dtype: int64"
      ]
     },
     "execution_count": 23,
     "metadata": {},
     "output_type": "execute_result"
    }
   ],
   "source": [
    "printna(test)"
   ]
  },
  {
   "cell_type": "code",
   "execution_count": 24,
   "metadata": {
    "collapsed": true
   },
   "outputs": [],
   "source": [
    "from sklearn.model_selection import cross_val_score\n",
    "from sklearn.model_selection import KFold\n",
    "from sklearn.preprocessing import StandardScaler\n",
    "from sklearn.pipeline import Pipeline\n",
    "from sklearn.metrics import r2_score\n",
    "from pandas import rolling_median"
   ]
  },
  {
   "cell_type": "code",
   "execution_count": 32,
   "metadata": {
    "collapsed": false
   },
   "outputs": [],
   "source": [
    "#import seaborn as sns\n",
    "from sklearn import model_selection, preprocessing\n",
    "import xgboost as xgb\n",
    "xgb_params = {\n",
    "    'eta': 0.05,\n",
    "    'max_depth': 5,\n",
    "    'subsample': 0.7,\n",
    "    'colsample_bytree': 0.7,\n",
    "    'objective': 'reg:linear',\n",
    "    'eval_metric': 'rmse',\n",
    "    'silent': 1\n",
    "}"
   ]
  },
  {
   "cell_type": "code",
   "execution_count": 69,
   "metadata": {
    "collapsed": false
   },
   "outputs": [],
   "source": [
    "def train_model1(train, v_in, xgb_params, num_boost_round):\n",
    "    \n",
    "   \n",
    "    y_train = np.array(train[\"price_doc\"])\n",
    "    x_train = train.drop([\"id\", \"timestamp\", \"price_doc\", \"persqm\"], axis=1)\n",
    "    x_train = labels(x_train).fillna(0)\n",
    "    \n",
    "    k_prior = np.array(v['v_in'])\n",
    "    \n",
    "    X, Y = np.array(x_train), np.array(y_train)/k_prior\n",
    "    \n",
    "    dtrain = xgb.DMatrix(X, Y)\n",
    "    model = xgb.train(dict(xgb_params, silent=0), dtrain, num_boost_round)\n",
    "    y1_predict = model.predict(dtrain)\n",
    "    \n",
    "    print r2_score(model.predict(dtrain),Y)\n",
    "    \n",
    "\n",
    "    df = train[['id','timestamp']].copy()\n",
    "    df['v'] = Y*k_prior/y1_predict\n",
    "\n",
    "            \n",
    "    return model, df"
   ]
  },
  {
   "cell_type": "code",
   "execution_count": 58,
   "metadata": {
    "collapsed": true
   },
   "outputs": [],
   "source": [
    "def find_minlag(macro, v_out):\n",
    "    \n",
    "    minlagscore = -1e28\n",
    "    for i in xrange(60):\n",
    "        v_out['timestamp'] -= datetime.timedelta(days=1)\n",
    "        #print v_out[['timestamp','vmean']][0:1]\n",
    "        train = macro.merge(v_out[['timestamp','vmean']])\n",
    "        X, Y = np.array(train.ix[:,1:100]), np.array(train[['vmean']])\n",
    "        Norm = StandardScaler()\n",
    "        Xt = Norm.fit_transform(X)\n",
    "        \n",
    "        dtrain = xgb.DMatrix(Xt, Y)\n",
    "        model = xgb.train(dict(xgb_params, silent=0), dtrain, num_boost_round=350)\n",
    "    \n",
    "        scores = r2_score(model.predict(dtrain),Y)\n",
    "        \n",
    "        if minlagscore < scores.mean():\n",
    "            minlagscore = scores.mean()\n",
    "            minlag = i\n",
    "        \n",
    "        #print i, scores.mean(), minlagscore\n",
    "    \n",
    "    print \"Final:\", minlag, minlagscore\n",
    "    \n",
    "    return minlag"
   ]
  },
  {
   "cell_type": "code",
   "execution_count": 59,
   "metadata": {
    "collapsed": false
   },
   "outputs": [],
   "source": [
    "def train_model2(macro, df, xgb_params, num_boost_round): \n",
    "    \n",
    "    \n",
    "    df=df[df['v']>0.6]\n",
    "    df['vmean'] = df['v'].rolling(window=10,center=True).median().fillna(method='bfill').fillna(method='ffill')\n",
    "    v_out = df.groupby('timestamp').aggregate(np.mean).reset_index()\n",
    "    \n",
    "    minlag=find_minlag(macro, v_out)\n",
    "    v_out['timestamp'] -= datetime.timedelta(days=minlag+1)\n",
    "    train = macro.merge(v_out[['timestamp','vmean']])\n",
    "    \n",
    "    X, Y, Z = np.array(train.ix[:,1:100]), np.array(train[['vmean']]), np.array(macro.ix[:,1:100])\n",
    "    Norm = StandardScaler()\n",
    "    Xt = Norm.fit_transform(X) \n",
    "    Zt = Norm.transform(Z)\n",
    "    dtrain = xgb.DMatrix(Xt, Y)\n",
    "    dtest = xgb.DMatrix(Zt)\n",
    "    model = xgb.train(dict(xgb_params, silent=0), dtrain, num_boost_round)\n",
    "    \n",
    "    y1_predict = model.predict(dtest)\n",
    "    \n",
    "    print r2_score(model.predict(dtrain),Y)\n",
    "\n",
    "    v_in = pd.DataFrame()\n",
    "    v_in = macro[['timestamp','oil_urals']]\n",
    "    v_in['vpred'] =  y1_predict\n",
    "    v_in['timestamp'] += datetime.timedelta(days=minlag+1)\n",
    "            \n",
    "    return model, v_in, Norm"
   ]
  },
  {
   "cell_type": "code",
   "execution_count": 56,
   "metadata": {
    "collapsed": false
   },
   "outputs": [
    {
     "name": "stderr",
     "output_type": "stream",
     "text": [
      "/home/serzzh/anaconda2/envs/gl-env/lib/python2.7/site-packages/ipykernel/__main__.py:2: SettingWithCopyWarning: \n",
      "A value is trying to be set on a copy of a slice from a DataFrame.\n",
      "Try using .loc[row_indexer,col_indexer] = value instead\n",
      "\n",
      "See the caveats in the documentation: http://pandas.pydata.org/pandas-docs/stable/indexing.html#indexing-view-versus-copy\n",
      "  from ipykernel import kernelapp as app\n"
     ]
    },
    {
     "name": "stdout",
     "output_type": "stream",
     "text": [
      "0.818516449356\n"
     ]
    }
   ],
   "source": [
    "v = macro[macro.columns.values[0:1]]\n",
    "v['v_in'] = 1\n",
    "v = v.merge(train[['timestamp']])\n",
    "model1, df = train_model1(train, v, xgb_params, num_boost_round=422)"
   ]
  },
  {
   "cell_type": "markdown",
   "metadata": {},
   "source": [
    "http://www.globalpropertyguide.com/real-estate-house-prices/R#russia"
   ]
  },
  {
   "cell_type": "code",
   "execution_count": 70,
   "metadata": {
    "collapsed": false
   },
   "outputs": [
    {
     "name": "stderr",
     "output_type": "stream",
     "text": [
      "/home/serzzh/anaconda2/envs/gl-env/lib/python2.7/site-packages/ipykernel/__main__.py:5: SettingWithCopyWarning: \n",
      "A value is trying to be set on a copy of a slice from a DataFrame.\n",
      "Try using .loc[row_indexer,col_indexer] = value instead\n",
      "\n",
      "See the caveats in the documentation: http://pandas.pydata.org/pandas-docs/stable/indexing.html#indexing-view-versus-copy\n"
     ]
    },
    {
     "name": "stdout",
     "output_type": "stream",
     "text": [
      "Final: 8 0.904271133341\n",
      "0.888683590248\n"
     ]
    },
    {
     "name": "stderr",
     "output_type": "stream",
     "text": [
      "/home/serzzh/anaconda2/envs/gl-env/lib/python2.7/site-packages/ipykernel/__main__.py:26: SettingWithCopyWarning: \n",
      "A value is trying to be set on a copy of a slice from a DataFrame.\n",
      "Try using .loc[row_indexer,col_indexer] = value instead\n",
      "\n",
      "See the caveats in the documentation: http://pandas.pydata.org/pandas-docs/stable/indexing.html#indexing-view-versus-copy\n",
      "/home/serzzh/anaconda2/envs/gl-env/lib/python2.7/site-packages/ipykernel/__main__.py:27: SettingWithCopyWarning: \n",
      "A value is trying to be set on a copy of a slice from a DataFrame.\n",
      "Try using .loc[row_indexer,col_indexer] = value instead\n",
      "\n",
      "See the caveats in the documentation: http://pandas.pydata.org/pandas-docs/stable/indexing.html#indexing-view-versus-copy\n"
     ]
    }
   ],
   "source": [
    "model2, v_in, Norm2  = train_model2 (macro, df, xgb_params, num_boost_round=422)"
   ]
  },
  {
   "cell_type": "code",
   "execution_count": 71,
   "metadata": {
    "collapsed": false
   },
   "outputs": [
    {
     "name": "stdout",
     "output_type": "stream",
     "text": [
      "0.818148801218\n"
     ]
    }
   ],
   "source": [
    "model1, v_out = train_model1 (train, v_in['vpred'], xgb_params, num_boost_round=420)\n"
   ]
  },
  {
   "cell_type": "code",
   "execution_count": 68,
   "metadata": {
    "collapsed": false
   },
   "outputs": [
    {
     "data": {
      "text/html": [
       "<div>\n",
       "<table border=\"1\" class=\"dataframe\">\n",
       "  <thead>\n",
       "    <tr style=\"text-align: right;\">\n",
       "      <th></th>\n",
       "      <th>timestamp</th>\n",
       "      <th>oil_urals</th>\n",
       "      <th>vpred</th>\n",
       "    </tr>\n",
       "  </thead>\n",
       "  <tbody>\n",
       "    <tr>\n",
       "      <th>0</th>\n",
       "      <td>2010-01-10</td>\n",
       "      <td>76.1000</td>\n",
       "      <td>1.095077</td>\n",
       "    </tr>\n",
       "    <tr>\n",
       "      <th>1</th>\n",
       "      <td>2010-01-11</td>\n",
       "      <td>76.1000</td>\n",
       "      <td>1.095077</td>\n",
       "    </tr>\n",
       "    <tr>\n",
       "      <th>2</th>\n",
       "      <td>2010-01-12</td>\n",
       "      <td>76.1000</td>\n",
       "      <td>1.095077</td>\n",
       "    </tr>\n",
       "    <tr>\n",
       "      <th>3</th>\n",
       "      <td>2010-01-13</td>\n",
       "      <td>76.1000</td>\n",
       "      <td>1.088321</td>\n",
       "    </tr>\n",
       "    <tr>\n",
       "      <th>4</th>\n",
       "      <td>2010-01-14</td>\n",
       "      <td>76.1000</td>\n",
       "      <td>1.091669</td>\n",
       "    </tr>\n",
       "    <tr>\n",
       "      <th>5</th>\n",
       "      <td>2010-01-15</td>\n",
       "      <td>76.1000</td>\n",
       "      <td>1.091669</td>\n",
       "    </tr>\n",
       "    <tr>\n",
       "      <th>6</th>\n",
       "      <td>2010-01-16</td>\n",
       "      <td>76.1000</td>\n",
       "      <td>1.092089</td>\n",
       "    </tr>\n",
       "    <tr>\n",
       "      <th>7</th>\n",
       "      <td>2010-01-17</td>\n",
       "      <td>76.1000</td>\n",
       "      <td>1.091669</td>\n",
       "    </tr>\n",
       "    <tr>\n",
       "      <th>8</th>\n",
       "      <td>2010-01-18</td>\n",
       "      <td>76.1000</td>\n",
       "      <td>1.091669</td>\n",
       "    </tr>\n",
       "    <tr>\n",
       "      <th>9</th>\n",
       "      <td>2010-01-19</td>\n",
       "      <td>76.1000</td>\n",
       "      <td>1.091669</td>\n",
       "    </tr>\n",
       "    <tr>\n",
       "      <th>10</th>\n",
       "      <td>2010-01-20</td>\n",
       "      <td>76.1000</td>\n",
       "      <td>1.062322</td>\n",
       "    </tr>\n",
       "    <tr>\n",
       "      <th>11</th>\n",
       "      <td>2010-01-21</td>\n",
       "      <td>76.1000</td>\n",
       "      <td>1.065891</td>\n",
       "    </tr>\n",
       "    <tr>\n",
       "      <th>12</th>\n",
       "      <td>2010-01-22</td>\n",
       "      <td>76.1000</td>\n",
       "      <td>1.067341</td>\n",
       "    </tr>\n",
       "    <tr>\n",
       "      <th>13</th>\n",
       "      <td>2010-01-23</td>\n",
       "      <td>76.1000</td>\n",
       "      <td>1.064876</td>\n",
       "    </tr>\n",
       "    <tr>\n",
       "      <th>14</th>\n",
       "      <td>2010-01-24</td>\n",
       "      <td>76.1000</td>\n",
       "      <td>1.058100</td>\n",
       "    </tr>\n",
       "    <tr>\n",
       "      <th>15</th>\n",
       "      <td>2010-01-25</td>\n",
       "      <td>76.1000</td>\n",
       "      <td>1.058100</td>\n",
       "    </tr>\n",
       "    <tr>\n",
       "      <th>16</th>\n",
       "      <td>2010-01-26</td>\n",
       "      <td>76.1000</td>\n",
       "      <td>1.058100</td>\n",
       "    </tr>\n",
       "    <tr>\n",
       "      <th>17</th>\n",
       "      <td>2010-01-27</td>\n",
       "      <td>76.1000</td>\n",
       "      <td>1.055284</td>\n",
       "    </tr>\n",
       "    <tr>\n",
       "      <th>18</th>\n",
       "      <td>2010-01-28</td>\n",
       "      <td>76.1000</td>\n",
       "      <td>1.055989</td>\n",
       "    </tr>\n",
       "    <tr>\n",
       "      <th>19</th>\n",
       "      <td>2010-01-29</td>\n",
       "      <td>76.1000</td>\n",
       "      <td>1.059854</td>\n",
       "    </tr>\n",
       "    <tr>\n",
       "      <th>20</th>\n",
       "      <td>2010-01-30</td>\n",
       "      <td>76.1000</td>\n",
       "      <td>1.061365</td>\n",
       "    </tr>\n",
       "    <tr>\n",
       "      <th>21</th>\n",
       "      <td>2010-01-31</td>\n",
       "      <td>76.1000</td>\n",
       "      <td>1.054997</td>\n",
       "    </tr>\n",
       "    <tr>\n",
       "      <th>22</th>\n",
       "      <td>2010-02-01</td>\n",
       "      <td>76.1000</td>\n",
       "      <td>1.054997</td>\n",
       "    </tr>\n",
       "    <tr>\n",
       "      <th>23</th>\n",
       "      <td>2010-02-02</td>\n",
       "      <td>76.1000</td>\n",
       "      <td>1.054997</td>\n",
       "    </tr>\n",
       "    <tr>\n",
       "      <th>24</th>\n",
       "      <td>2010-02-03</td>\n",
       "      <td>76.1000</td>\n",
       "      <td>1.058341</td>\n",
       "    </tr>\n",
       "    <tr>\n",
       "      <th>25</th>\n",
       "      <td>2010-02-04</td>\n",
       "      <td>76.1000</td>\n",
       "      <td>1.069427</td>\n",
       "    </tr>\n",
       "    <tr>\n",
       "      <th>26</th>\n",
       "      <td>2010-02-05</td>\n",
       "      <td>76.1000</td>\n",
       "      <td>1.062598</td>\n",
       "    </tr>\n",
       "    <tr>\n",
       "      <th>27</th>\n",
       "      <td>2010-02-06</td>\n",
       "      <td>76.1000</td>\n",
       "      <td>1.066513</td>\n",
       "    </tr>\n",
       "    <tr>\n",
       "      <th>28</th>\n",
       "      <td>2010-02-07</td>\n",
       "      <td>76.1000</td>\n",
       "      <td>1.067765</td>\n",
       "    </tr>\n",
       "    <tr>\n",
       "      <th>29</th>\n",
       "      <td>2010-02-08</td>\n",
       "      <td>76.1000</td>\n",
       "      <td>1.067765</td>\n",
       "    </tr>\n",
       "    <tr>\n",
       "      <th>...</th>\n",
       "      <td>...</td>\n",
       "      <td>...</td>\n",
       "      <td>...</td>\n",
       "    </tr>\n",
       "    <tr>\n",
       "      <th>2454</th>\n",
       "      <td>2016-09-29</td>\n",
       "      <td>44.3677</td>\n",
       "      <td>1.038717</td>\n",
       "    </tr>\n",
       "    <tr>\n",
       "      <th>2455</th>\n",
       "      <td>2016-09-30</td>\n",
       "      <td>44.3677</td>\n",
       "      <td>1.038121</td>\n",
       "    </tr>\n",
       "    <tr>\n",
       "      <th>2456</th>\n",
       "      <td>2016-10-01</td>\n",
       "      <td>44.3677</td>\n",
       "      <td>1.037990</td>\n",
       "    </tr>\n",
       "    <tr>\n",
       "      <th>2457</th>\n",
       "      <td>2016-10-02</td>\n",
       "      <td>44.3677</td>\n",
       "      <td>1.038452</td>\n",
       "    </tr>\n",
       "    <tr>\n",
       "      <th>2458</th>\n",
       "      <td>2016-10-03</td>\n",
       "      <td>44.3677</td>\n",
       "      <td>1.038452</td>\n",
       "    </tr>\n",
       "    <tr>\n",
       "      <th>2459</th>\n",
       "      <td>2016-10-04</td>\n",
       "      <td>44.3677</td>\n",
       "      <td>1.038452</td>\n",
       "    </tr>\n",
       "    <tr>\n",
       "      <th>2460</th>\n",
       "      <td>2016-10-05</td>\n",
       "      <td>44.3677</td>\n",
       "      <td>1.037892</td>\n",
       "    </tr>\n",
       "    <tr>\n",
       "      <th>2461</th>\n",
       "      <td>2016-10-06</td>\n",
       "      <td>44.3677</td>\n",
       "      <td>1.038973</td>\n",
       "    </tr>\n",
       "    <tr>\n",
       "      <th>2462</th>\n",
       "      <td>2016-10-07</td>\n",
       "      <td>44.3677</td>\n",
       "      <td>1.039202</td>\n",
       "    </tr>\n",
       "    <tr>\n",
       "      <th>2463</th>\n",
       "      <td>2016-10-08</td>\n",
       "      <td>44.3677</td>\n",
       "      <td>1.040413</td>\n",
       "    </tr>\n",
       "    <tr>\n",
       "      <th>2464</th>\n",
       "      <td>2016-10-09</td>\n",
       "      <td>44.3677</td>\n",
       "      <td>1.041497</td>\n",
       "    </tr>\n",
       "    <tr>\n",
       "      <th>2465</th>\n",
       "      <td>2016-10-10</td>\n",
       "      <td>44.3677</td>\n",
       "      <td>1.041497</td>\n",
       "    </tr>\n",
       "    <tr>\n",
       "      <th>2466</th>\n",
       "      <td>2016-10-11</td>\n",
       "      <td>44.3677</td>\n",
       "      <td>1.041497</td>\n",
       "    </tr>\n",
       "    <tr>\n",
       "      <th>2467</th>\n",
       "      <td>2016-10-12</td>\n",
       "      <td>44.3677</td>\n",
       "      <td>1.044938</td>\n",
       "    </tr>\n",
       "    <tr>\n",
       "      <th>2468</th>\n",
       "      <td>2016-10-13</td>\n",
       "      <td>44.3677</td>\n",
       "      <td>1.039404</td>\n",
       "    </tr>\n",
       "    <tr>\n",
       "      <th>2469</th>\n",
       "      <td>2016-10-14</td>\n",
       "      <td>44.3677</td>\n",
       "      <td>1.042890</td>\n",
       "    </tr>\n",
       "    <tr>\n",
       "      <th>2470</th>\n",
       "      <td>2016-10-15</td>\n",
       "      <td>44.3677</td>\n",
       "      <td>1.046561</td>\n",
       "    </tr>\n",
       "    <tr>\n",
       "      <th>2471</th>\n",
       "      <td>2016-10-16</td>\n",
       "      <td>44.3677</td>\n",
       "      <td>1.044097</td>\n",
       "    </tr>\n",
       "    <tr>\n",
       "      <th>2472</th>\n",
       "      <td>2016-10-17</td>\n",
       "      <td>44.3677</td>\n",
       "      <td>1.044097</td>\n",
       "    </tr>\n",
       "    <tr>\n",
       "      <th>2473</th>\n",
       "      <td>2016-10-18</td>\n",
       "      <td>44.3677</td>\n",
       "      <td>1.044097</td>\n",
       "    </tr>\n",
       "    <tr>\n",
       "      <th>2474</th>\n",
       "      <td>2016-10-19</td>\n",
       "      <td>44.3677</td>\n",
       "      <td>1.045843</td>\n",
       "    </tr>\n",
       "    <tr>\n",
       "      <th>2475</th>\n",
       "      <td>2016-10-20</td>\n",
       "      <td>44.3677</td>\n",
       "      <td>1.044276</td>\n",
       "    </tr>\n",
       "    <tr>\n",
       "      <th>2476</th>\n",
       "      <td>2016-10-21</td>\n",
       "      <td>44.3677</td>\n",
       "      <td>1.040922</td>\n",
       "    </tr>\n",
       "    <tr>\n",
       "      <th>2477</th>\n",
       "      <td>2016-10-22</td>\n",
       "      <td>44.3677</td>\n",
       "      <td>1.041842</td>\n",
       "    </tr>\n",
       "    <tr>\n",
       "      <th>2478</th>\n",
       "      <td>2016-10-23</td>\n",
       "      <td>44.3677</td>\n",
       "      <td>1.041842</td>\n",
       "    </tr>\n",
       "    <tr>\n",
       "      <th>2479</th>\n",
       "      <td>2016-10-24</td>\n",
       "      <td>44.3677</td>\n",
       "      <td>1.041842</td>\n",
       "    </tr>\n",
       "    <tr>\n",
       "      <th>2480</th>\n",
       "      <td>2016-10-25</td>\n",
       "      <td>44.3677</td>\n",
       "      <td>1.041842</td>\n",
       "    </tr>\n",
       "    <tr>\n",
       "      <th>2481</th>\n",
       "      <td>2016-10-26</td>\n",
       "      <td>44.3677</td>\n",
       "      <td>1.041208</td>\n",
       "    </tr>\n",
       "    <tr>\n",
       "      <th>2482</th>\n",
       "      <td>2016-10-27</td>\n",
       "      <td>44.3677</td>\n",
       "      <td>1.046664</td>\n",
       "    </tr>\n",
       "    <tr>\n",
       "      <th>2483</th>\n",
       "      <td>2016-10-28</td>\n",
       "      <td>44.3677</td>\n",
       "      <td>1.042433</td>\n",
       "    </tr>\n",
       "  </tbody>\n",
       "</table>\n",
       "<p>2484 rows × 3 columns</p>\n",
       "</div>"
      ],
      "text/plain": [
       "      timestamp  oil_urals     vpred\n",
       "0    2010-01-10    76.1000  1.095077\n",
       "1    2010-01-11    76.1000  1.095077\n",
       "2    2010-01-12    76.1000  1.095077\n",
       "3    2010-01-13    76.1000  1.088321\n",
       "4    2010-01-14    76.1000  1.091669\n",
       "5    2010-01-15    76.1000  1.091669\n",
       "6    2010-01-16    76.1000  1.092089\n",
       "7    2010-01-17    76.1000  1.091669\n",
       "8    2010-01-18    76.1000  1.091669\n",
       "9    2010-01-19    76.1000  1.091669\n",
       "10   2010-01-20    76.1000  1.062322\n",
       "11   2010-01-21    76.1000  1.065891\n",
       "12   2010-01-22    76.1000  1.067341\n",
       "13   2010-01-23    76.1000  1.064876\n",
       "14   2010-01-24    76.1000  1.058100\n",
       "15   2010-01-25    76.1000  1.058100\n",
       "16   2010-01-26    76.1000  1.058100\n",
       "17   2010-01-27    76.1000  1.055284\n",
       "18   2010-01-28    76.1000  1.055989\n",
       "19   2010-01-29    76.1000  1.059854\n",
       "20   2010-01-30    76.1000  1.061365\n",
       "21   2010-01-31    76.1000  1.054997\n",
       "22   2010-02-01    76.1000  1.054997\n",
       "23   2010-02-02    76.1000  1.054997\n",
       "24   2010-02-03    76.1000  1.058341\n",
       "25   2010-02-04    76.1000  1.069427\n",
       "26   2010-02-05    76.1000  1.062598\n",
       "27   2010-02-06    76.1000  1.066513\n",
       "28   2010-02-07    76.1000  1.067765\n",
       "29   2010-02-08    76.1000  1.067765\n",
       "...         ...        ...       ...\n",
       "2454 2016-09-29    44.3677  1.038717\n",
       "2455 2016-09-30    44.3677  1.038121\n",
       "2456 2016-10-01    44.3677  1.037990\n",
       "2457 2016-10-02    44.3677  1.038452\n",
       "2458 2016-10-03    44.3677  1.038452\n",
       "2459 2016-10-04    44.3677  1.038452\n",
       "2460 2016-10-05    44.3677  1.037892\n",
       "2461 2016-10-06    44.3677  1.038973\n",
       "2462 2016-10-07    44.3677  1.039202\n",
       "2463 2016-10-08    44.3677  1.040413\n",
       "2464 2016-10-09    44.3677  1.041497\n",
       "2465 2016-10-10    44.3677  1.041497\n",
       "2466 2016-10-11    44.3677  1.041497\n",
       "2467 2016-10-12    44.3677  1.044938\n",
       "2468 2016-10-13    44.3677  1.039404\n",
       "2469 2016-10-14    44.3677  1.042890\n",
       "2470 2016-10-15    44.3677  1.046561\n",
       "2471 2016-10-16    44.3677  1.044097\n",
       "2472 2016-10-17    44.3677  1.044097\n",
       "2473 2016-10-18    44.3677  1.044097\n",
       "2474 2016-10-19    44.3677  1.045843\n",
       "2475 2016-10-20    44.3677  1.044276\n",
       "2476 2016-10-21    44.3677  1.040922\n",
       "2477 2016-10-22    44.3677  1.041842\n",
       "2478 2016-10-23    44.3677  1.041842\n",
       "2479 2016-10-24    44.3677  1.041842\n",
       "2480 2016-10-25    44.3677  1.041842\n",
       "2481 2016-10-26    44.3677  1.041208\n",
       "2482 2016-10-27    44.3677  1.046664\n",
       "2483 2016-10-28    44.3677  1.042433\n",
       "\n",
       "[2484 rows x 3 columns]"
      ]
     },
     "execution_count": 68,
     "metadata": {},
     "output_type": "execute_result"
    }
   ],
   "source": [
    "v_in"
   ]
  },
  {
   "cell_type": "code",
   "execution_count": 33,
   "metadata": {
    "collapsed": false
   },
   "outputs": [
    {
     "name": "stdout",
     "output_type": "stream",
     "text": [
      "(7662, 292)\n",
      "      id     price_doc\n",
      "0  30474  5.648135e+06\n",
      "1  30475  8.405948e+06\n",
      "2  30476  5.313339e+06\n",
      "3  30477  5.899866e+06\n",
      "4  30478  4.927268e+06\n"
     ]
    },
    {
     "name": "stderr",
     "output_type": "stream",
     "text": [
      "/home/serzzh/anaconda2/envs/gl-env/lib/python2.7/site-packages/ipykernel/__main__.py:17: SettingWithCopyWarning: \n",
      "A value is trying to be set on a copy of a slice from a DataFrame.\n",
      "Try using .loc[row_indexer,col_indexer] = value instead\n",
      "\n",
      "See the caveats in the documentation: http://pandas.pydata.org/pandas-docs/stable/indexing.html#indexing-view-versus-copy\n"
     ]
    }
   ],
   "source": [
    "x_test = test.drop([\"id\", \"timestamp\"], axis=1)\n",
    "x_test = labels(x_test).fillna(0)\n",
    "X_test=np.array(x_test)\n",
    "print X_test.shape\n",
    "Xt_test=Norm1.transform(X_test)\n",
    "dtest = xgb.DMatrix(Xt_test)\n",
    "y_predict = nY_1*model1.predict(dtest) + nY_0\n",
    "\n",
    "Z = np.array(macro.ix[:,1:100])\n",
    "Zt = Norm2.transform(Z)\n",
    "dtest = xgb.DMatrix(Zt)\n",
    "k_predict = model2.predict(dtest)\n",
    "#k_predict=v_in\n",
    "\n",
    "v = pd.DataFrame()\n",
    "v = macro[['timestamp','oil_urals']]\n",
    "v['v_in'] = k_predict\n",
    "v = v.merge(test[['timestamp','id']])\n",
    "\n",
    "\n",
    "Y_test = y_predict*test[\"full_sq\"]*v['v_in']\n",
    "result = pd.DataFrame({'id': id_test, 'price_doc': Y_test})\n",
    "print result.head()\n",
    "result.to_csv('unadj.csv', index=False)\n"
   ]
  },
  {
   "cell_type": "code",
   "execution_count": 50,
   "metadata": {
    "collapsed": false
   },
   "outputs": [],
   "source": [
    "import statsmodels.api as sm\n",
    "mdata=sm.datasets.macrodata.load().data\n",
    "endog = np.log(mdata['m1'])\n",
    "exog = np.column_stack([np.log(mdata['realgdp']),\n",
    "np.log(mdata['cpi'])])\n",
    "exog = sm.add_constant(exog, prepend=True)\n",
    "res1 = sm.OLS(endog, exog).fit()\n",
    "print res1.summary()"
   ]
  },
  {
   "cell_type": "code",
   "execution_count": null,
   "metadata": {
    "collapsed": true
   },
   "outputs": [],
   "source": []
  },
  {
   "cell_type": "code",
   "execution_count": null,
   "metadata": {
    "collapsed": true
   },
   "outputs": [],
   "source": []
  }
 ],
 "metadata": {
  "kernelspec": {
   "display_name": "Python 2",
   "language": "python",
   "name": "python2"
  },
  "language_info": {
   "codemirror_mode": {
    "name": "ipython",
    "version": 2
   },
   "file_extension": ".py",
   "mimetype": "text/x-python",
   "name": "python",
   "nbconvert_exporter": "python",
   "pygments_lexer": "ipython2",
   "version": "2.7.13"
  }
 },
 "nbformat": 4,
 "nbformat_minor": 0
}
