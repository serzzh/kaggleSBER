{
 "cells": [
  {
   "cell_type": "code",
   "execution_count": 37,
   "metadata": {
    "collapsed": false
   },
   "outputs": [],
   "source": [
    "import pandas as pd\n",
    "import numpy as np\n",
    "import sklearn\n",
    "import xmltodict"
   ]
  },
  {
   "cell_type": "code",
   "execution_count": 38,
   "metadata": {
    "collapsed": false,
    "scrolled": true
   },
   "outputs": [],
   "source": [
    "import urllib2\n",
    "import datetime"
   ]
  },
  {
   "cell_type": "code",
   "execution_count": 39,
   "metadata": {
    "collapsed": true
   },
   "outputs": [],
   "source": [
    "def read_data(filenames):\n",
    "    arrays = [0,0,0]\n",
    "    for i in xrange(len(filenames)):\n",
    "        arrays[i] = pd.read_csv(filenames[i], parse_dates=['timestamp'])\n",
    "    return arrays"
   ]
  },
  {
   "cell_type": "code",
   "execution_count": 40,
   "metadata": {
    "collapsed": false
   },
   "outputs": [],
   "source": [
    "def my_transport(data):\n",
    "    data[\"metro_km_walk\"]=data[\"metro_km_walk\"].fillna(data[\"metro_km_avto\"])\n",
    "    data[\"metro_min_walk\"]=data[\"metro_min_walk\"].fillna(data[\"metro_km_avto\"]*12)\n",
    "    data[\"railroad_station_walk_km\"]=data[\"railroad_station_walk_km\"].fillna(data[\"railroad_station_avto_km\"])\n",
    "    data[\"railroad_station_walk_min\"]=data[\"railroad_station_walk_min\"].fillna(data[\"railroad_station_avto_km\"]*12)\n",
    "    data[\"ID_railroad_station_walk\"]=data[\"ID_railroad_station_walk\"].fillna(data[\"ID_railroad_station_avto\"])\n",
    "    return data"
   ]
  },
  {
   "cell_type": "code",
   "execution_count": 41,
   "metadata": {
    "collapsed": false
   },
   "outputs": [],
   "source": [
    "from sklearn.preprocessing import Imputer\n",
    "def my_cafe(data):\n",
    "    st0=['cafe_sum_5000_min_price_avg','cafe_sum_5000_max_price_avg','cafe_avg_price_5000']\n",
    "    l=['5000','3000','2000','1500','1000','500']\n",
    "    medImputer=Imputer(strategy='median')\n",
    "    data[st0]=medImputer.fit_transform(data[st0])\n",
    "    for i in xrange(len(l)-1):\n",
    "        st1=[st.replace('5000',str(l[i+1])) for st in st0]\n",
    "        st2=[st.replace('5000',str(l[i])) for st in st0]\n",
    "        for k in xrange(len(st1)):\n",
    "            data[st1[k]]=data[st1[k]].fillna(data[st2[k]])\n",
    "    return data        "
   ]
  },
  {
   "cell_type": "code",
   "execution_count": 42,
   "metadata": {
    "collapsed": false
   },
   "outputs": [],
   "source": [
    "def er10(data):\n",
    "    err = (data.full_sq>data.life_sq*10)&(data.life_sq>2)\n",
    "    data.ix[err,'full_sq'] = data.ix[err,'full_sq']/10\n",
    "    return data"
   ]
  },
  {
   "cell_type": "raw",
   "metadata": {
    "collapsed": false
   },
   "source": [
    "def excl_cheat(data, quan = .01, quan2 = 0.99):\n",
    "    data = data[data[\"pr_RUB_SQM\"]>20000]\n",
    "    data = data[data[\"pr_RUB_SQM\"]<500000]\n",
    "    df = data.groupby(\"sub_area\")\n",
    "    result = pd.DataFrame()\n",
    "    for name, group in df:\n",
    "        q = group.pr_RUB_SQM.quantile(quan)\n",
    "        q2 = group.pr_RUB_SQM.quantile(quan2)\n",
    "        group = group[group.pr_RUB_SQM > q]\n",
    "        group = group[group.pr_RUB_SQM < q2]\n",
    "        result = result.append(group)\n",
    "    return result"
   ]
  },
  {
   "cell_type": "code",
   "execution_count": 43,
   "metadata": {
    "collapsed": false
   },
   "outputs": [],
   "source": [
    "import seaborn as sns\n",
    "from sklearn import model_selection, preprocessing\n",
    "import xgboost as xgb"
   ]
  },
  {
   "cell_type": "code",
   "execution_count": 44,
   "metadata": {
    "collapsed": false
   },
   "outputs": [],
   "source": [
    "filenames = [\"./data/macro.csv\",\"./data/train.csv/train.csv\",\"./data/test.csv/test.csv\"]\n",
    "[macro, train, test] = read_data(filenames)\n",
    "train=er10(er10(train))\n",
    "[train, test] = [my_transport(train),my_transport(test)]\n",
    "[train, test] = [my_cafe(train),my_cafe(test)]\n",
    "#data[\"pr_RUB_SQM\"] = data[\"price_doc\"]/data[\"full_sq\"]\n",
    "#data = excl_cheat(data)\n",
    "id_test = test.id"
   ]
  },
  {
   "cell_type": "code",
   "execution_count": 45,
   "metadata": {
    "collapsed": true
   },
   "outputs": [],
   "source": [
    "def clean_sq(train):\n",
    "    bad_index = train[(train.life_sq > train.full_sq) | \n",
    "                      (train.life_sq < 5)].index\n",
    "    train.ix[bad_index, \"life_sq\"] = np.NaN\n",
    "\n",
    "    bad_index = train[(train.full_sq > 210) & (train.life_sq / train.full_sq < 0.3) | \n",
    "                      (train.full_sq < 5)].index\n",
    "    train.ix[bad_index, \"full_sq\"] = np.NaN\n",
    "    \n",
    "    bad_index = train[(train.kitch_sq >= train.life_sq) |\n",
    "                      (train.kitch_sq == 0) | \n",
    "                      (train.kitch_sq == 1)].index\n",
    "    train.ix[bad_index, \"kitch_sq\"] = np.NaN\n",
    "    \n",
    "    bad_index = train[train.life_sq > 300].index\n",
    "    train.ix[bad_index, [\"life_sq\", \"full_sq\"]] = np.NaN\n",
    "    \n",
    "    bad_index = train[train.build_year < 1500].index\n",
    "    train.ix[bad_index, \"build_year\"] = np.NaN\n",
    "    \n",
    "    bad_index = train[train.num_room == 0].index \n",
    "    train.ix[bad_index, \"num_room\"] = np.NaN\n",
    "    \n",
    "    bad_index = train[train.max_floor == 0].index\n",
    "    train.ix[bad_index, \"max_floor\"] = np.NaN\n",
    "    \n",
    "    bad_index = train[train.floor > train.max_floor].index\n",
    "    train.ix[bad_index, \"max_floor\"] = np.NaN    \n",
    "    \n",
    "    return(train)    "
   ]
  },
  {
   "cell_type": "code",
   "execution_count": 46,
   "metadata": {
    "collapsed": false
   },
   "outputs": [
    {
     "data": {
      "text/plain": [
       "2.0    2662\n",
       "1.0    2266\n",
       "3.0    1913\n",
       "4.0     127\n",
       "Name: state, dtype: int64"
      ]
     },
     "execution_count": 46,
     "metadata": {},
     "output_type": "execute_result"
    }
   ],
   "source": [
    "#clean data\n",
    "equal_index = [601,1896,2791]\n",
    "test.ix[equal_index, \"life_sq\"] = test.ix[equal_index, \"full_sq\"]\n",
    "\n",
    "kitch_is_build_year = [13117]\n",
    "train.ix[kitch_is_build_year, \"build_year\"] = train.ix[kitch_is_build_year, \"kitch_sq\"]\n",
    "\n",
    "bad_index = [10076, 11621, 17764, 19390, 24007, 26713, 29172]\n",
    "train.ix[bad_index, \"num_room\"] = np.NaN\n",
    "\n",
    "bad_index = [3174, 7313]\n",
    "test.ix[bad_index, \"num_room\"] = np.NaN\n",
    "\n",
    "[train, test] = [clean_sq(train), clean_sq(test)]\n",
    "\n",
    "train.product_type.value_counts(normalize= True)\n",
    "test.product_type.value_counts(normalize= True)\n",
    "\n",
    "\n",
    "train.floor.describe(percentiles= [0.9999])\n",
    "bad_index = [23584]\n",
    "train.ix[bad_index, \"floor\"] = np.NaN\n",
    "train.material.value_counts()\n",
    "test.material.value_counts()\n",
    "train.state.value_counts()\n",
    "bad_index = train[train.state == 33].index\n",
    "train.ix[bad_index, \"state\"] = np.NaN\n",
    "test.state.value_counts()"
   ]
  },
  {
   "cell_type": "code",
   "execution_count": 47,
   "metadata": {
    "collapsed": true
   },
   "outputs": [],
   "source": [
    "# brings error down a lot by removing extreme price per sqm\n",
    "train.loc[train.full_sq == 0, 'full_sq'] = 50\n",
    "train = train[train.price_doc/train.full_sq <= 600000]\n",
    "train = train[train.price_doc/train.full_sq >= 10000]"
   ]
  },
  {
   "cell_type": "code",
   "execution_count": 48,
   "metadata": {
    "collapsed": true
   },
   "outputs": [],
   "source": [
    "def add_dates(train):\n",
    "    \n",
    "    # Add month-year\n",
    "    month_year = (train.timestamp.dt.month + train.timestamp.dt.year * 100)\n",
    "    month_year_cnt_map = month_year.value_counts().to_dict()\n",
    "    train['month_year_cnt'] = month_year.map(month_year_cnt_map)\n",
    "    \n",
    "    # Add week-year count\n",
    "    week_year = (train.timestamp.dt.weekofyear + train.timestamp.dt.year * 100)\n",
    "    week_year_cnt_map = week_year.value_counts().to_dict()\n",
    "    train['week_year_cnt'] = week_year.map(week_year_cnt_map)\n",
    "    \n",
    "    # Add month and day-of-week\n",
    "    train['month'] = train.timestamp.dt.month\n",
    "    train['dow'] = train.timestamp.dt.dayofweek\n",
    "    \n",
    "    return train\n",
    "    "
   ]
  },
  {
   "cell_type": "code",
   "execution_count": 49,
   "metadata": {
    "collapsed": false
   },
   "outputs": [],
   "source": [
    "[train, test] = [add_dates(train), add_dates(test)]"
   ]
  },
  {
   "cell_type": "code",
   "execution_count": 50,
   "metadata": {
    "collapsed": true
   },
   "outputs": [],
   "source": [
    "def new_features(train):\n",
    "    \n",
    "    train['rel_floor'] = train['floor'] / train['max_floor'].astype(float)\n",
    "    train['rel_kitch_sq'] = train['kitch_sq'] / train['full_sq'].astype(float)\n",
    "    train.apartment_name=train.sub_area + train['metro_km_avto'].astype(str)\n",
    "    train['room_size'] = train['life_sq'] / train['num_room'].astype(float)\n",
    "    \n",
    "    return train"
   ]
  },
  {
   "cell_type": "code",
   "execution_count": 51,
   "metadata": {
    "collapsed": true
   },
   "outputs": [],
   "source": [
    "# Other feature engineering\n",
    "train, test = new_features(train), new_features(test)"
   ]
  },
  {
   "cell_type": "code",
   "execution_count": 52,
   "metadata": {
    "collapsed": false
   },
   "outputs": [],
   "source": [
    "def labels(x_train):   \n",
    "    for c in x_train.columns:\n",
    "        if x_train[c].dtype == 'object':\n",
    "            lbl = preprocessing.LabelEncoder()\n",
    "            lbl.fit(list(x_train[c].values))\n",
    "            x_train[c] = lbl.transform(list(x_train[c].values))\n",
    "            #print c\n",
    "            #x_train.drop(c,axis=1,inplace=True)    \n",
    "    return x_train   "
   ]
  },
  {
   "cell_type": "code",
   "execution_count": 53,
   "metadata": {
    "collapsed": false
   },
   "outputs": [],
   "source": [
    "y_train = train[\"price_doc\"]\n",
    "x_train = train.drop([\"id\", \"timestamp\", \"price_doc\"], axis=1)\n",
    "x_test = test.drop([\"id\", \"timestamp\"], axis=1)\n",
    "\n",
    "x_train, x_test = labels(x_train), labels(x_test)"
   ]
  },
  {
   "cell_type": "code",
   "execution_count": 54,
   "metadata": {
    "collapsed": true
   },
   "outputs": [],
   "source": [
    "def printna(data):\n",
    "    k=len(data)-data.count()\n",
    "    print k[k>0]"
   ]
  },
  {
   "cell_type": "code",
   "execution_count": 55,
   "metadata": {
    "collapsed": false
   },
   "outputs": [],
   "source": [
    "xgb_params = {\n",
    "    'eta': 0.05,\n",
    "    'max_depth': 5,\n",
    "    'subsample': 0.7,\n",
    "    'colsample_bytree': 0.7,\n",
    "    'objective': 'reg:linear',\n",
    "    'eval_metric': 'rmse',\n",
    "    'silent': 1\n",
    "}\n",
    "\n",
    "dtrain = xgb.DMatrix(x_train, y_train)\n",
    "dtest = xgb.DMatrix(x_test)\n",
    "\n",
    "#cv_output = xgb.cv(xgb_params, dtrain, num_boost_round=1000, early_stopping_rounds=20,\n",
    "#    verbose_eval=50, show_stdv=False)\n",
    "#cv_output[['train-rmse-mean', 'test-rmse-mean']].plot()\n",
    "\n",
    "#num_boost_rounds = len(cv_output)\n",
    "model = xgb.train(dict(xgb_params, silent=0), dtrain, num_boost_round=350)\n",
    "\n",
    "#fig, ax = plt.subplots(1, 1, figsize=(8, 13))\n",
    "#xgb.plot_importance(model, max_num_features=50, height=0.5, ax=ax)\n",
    "\n",
    "y_predict = model.predict(dtest)\n",
    "y_predict = np.round(y_predict * 0.99)\n",
    "gunja_output = pd.DataFrame({'id': id_test, 'price_doc': y_predict})\n",
    "gunja_output.head()\n",
    "\n",
    "gunja_output.to_csv('gunja.csv', index=False)"
   ]
  },
  {
   "cell_type": "code",
   "execution_count": null,
   "metadata": {
    "collapsed": false
   },
   "outputs": [
    {
     "data": {
      "text/html": [
       "<div>\n",
       "<table border=\"1\" class=\"dataframe\">\n",
       "  <thead>\n",
       "    <tr style=\"text-align: right;\">\n",
       "      <th></th>\n",
       "      <th>id</th>\n",
       "      <th>price_doc</th>\n",
       "    </tr>\n",
       "  </thead>\n",
       "  <tbody>\n",
       "    <tr>\n",
       "      <th>0</th>\n",
       "      <td>30474</td>\n",
       "      <td>5279655.0</td>\n",
       "    </tr>\n",
       "    <tr>\n",
       "      <th>1</th>\n",
       "      <td>30475</td>\n",
       "      <td>8253539.5</td>\n",
       "    </tr>\n",
       "    <tr>\n",
       "      <th>2</th>\n",
       "      <td>30476</td>\n",
       "      <td>5222824.0</td>\n",
       "    </tr>\n",
       "    <tr>\n",
       "      <th>3</th>\n",
       "      <td>30477</td>\n",
       "      <td>5753112.0</td>\n",
       "    </tr>\n",
       "    <tr>\n",
       "      <th>4</th>\n",
       "      <td>30478</td>\n",
       "      <td>4991880.5</td>\n",
       "    </tr>\n",
       "  </tbody>\n",
       "</table>\n",
       "</div>"
      ],
      "text/plain": [
       "      id  price_doc\n",
       "0  30474  5279655.0\n",
       "1  30475  8253539.5\n",
       "2  30476  5222824.0\n",
       "3  30477  5753112.0\n",
       "4  30478  4991880.5"
      ]
     },
     "execution_count": 56,
     "metadata": {},
     "output_type": "execute_result"
    }
   ],
   "source": [
    "[macro, train, test] = read_data(filenames)\n",
    "id_test = test.id\n",
    "\n",
    "mult = .969\n",
    "\n",
    "y_train = train[\"price_doc\"] * mult + 10\n",
    "x_train = train.drop([\"id\", \"timestamp\", \"price_doc\"], axis=1)\n",
    "x_test = test.drop([\"id\", \"timestamp\"], axis=1)\n",
    "\n",
    "\n",
    "x_train = labels(x_train)\n",
    "x_test = labels(x_test)\n",
    "\n",
    "xgb_params = {\n",
    "    'eta': 0.05,\n",
    "    'max_depth': 5,\n",
    "    'subsample': 0.7,\n",
    "    'colsample_bytree': 0.7,\n",
    "    'objective': 'reg:linear',\n",
    "    'eval_metric': 'rmse',\n",
    "    'silent': 1\n",
    "}\n",
    "\n",
    "dtrain = xgb.DMatrix(x_train, y_train)\n",
    "dtest = xgb.DMatrix(x_test)\n",
    "\n",
    "num_boost_rounds = 384  # This was the CV output, as earlier version shows\n",
    "model = xgb.train(dict(xgb_params, silent=0), dtrain, num_boost_round= num_boost_rounds)\n",
    "\n",
    "y_predict = model.predict(dtest)\n",
    "output = pd.DataFrame({'id': id_test, 'price_doc': y_predict})\n",
    "output.head()"
   ]
  },
  {
   "cell_type": "code",
   "execution_count": null,
   "metadata": {
    "collapsed": false
   },
   "outputs": [
    {
     "name": "stdout",
     "output_type": "stream",
     "text": [
      "(38132, 390)\n",
      "(38132, 395)\n",
      "(38132, 395)\n"
     ]
    }
   ],
   "source": [
    "[df_macro, df_train, df_test] = read_data(filenames)\n",
    "\n",
    "df_train.drop(df_train[df_train[\"life_sq\"] > 7000].index, inplace=True)\n",
    "\n",
    "y_train = df_train['price_doc'].values  * mult + 10\n",
    "id_test = df_test['id']\n",
    "\n",
    "df_train.drop(['id', 'price_doc'], axis=1, inplace=True)\n",
    "df_test.drop(['id'], axis=1, inplace=True)\n",
    "\n",
    "num_train = len(df_train)\n",
    "df_all = pd.concat([df_train, df_test])\n",
    "# Next line just adds a lot of NA columns (becuase \"join\" only works on indexes)\n",
    "# but somewhow it seems to affect the result\n",
    "df_all = df_all.join(df_macro, on='timestamp', rsuffix='_macro')\n",
    "print(df_all.shape)\n",
    "\n",
    "\n",
    "df_all = add_dates(df_all)\n",
    "\n",
    "df_all = new_features(df_all)\n",
    "\n",
    "\n",
    "# Remove timestamp column (may overfit the model in train)\n",
    "df_all.drop(['timestamp', 'timestamp_macro'], axis=1, inplace=True)\n",
    "\n",
    "\n",
    "factorize = lambda t: pd.factorize(t[1])[0]\n",
    "\n",
    "df_obj = df_all.select_dtypes(include=['object'])\n",
    "\n",
    "X_all = np.c_[\n",
    "    df_all.select_dtypes(exclude=['object']).values,\n",
    "    np.array(list(map(factorize, df_obj.iteritems()))).T\n",
    "]\n",
    "print(X_all.shape)\n",
    "\n",
    "X_train = X_all[:num_train]\n",
    "X_test = X_all[num_train:]\n",
    "\n",
    "\n",
    "# Deal with categorical values\n",
    "df_numeric = df_all.select_dtypes(exclude=['object'])\n",
    "df_obj = df_all.select_dtypes(include=['object']).copy()\n",
    "\n",
    "for c in df_obj:\n",
    "    df_obj[c] = pd.factorize(df_obj[c])[0]\n",
    "\n",
    "df_values = pd.concat([df_numeric, df_obj], axis=1)\n",
    "\n",
    "\n",
    "# Convert to numpy values\n",
    "X_all = df_values.values\n",
    "print(X_all.shape)\n",
    "\n",
    "X_train = X_all[:num_train]\n",
    "X_test = X_all[num_train:]\n",
    "\n",
    "df_columns = df_values.columns\n",
    "\n",
    "\n",
    "xgb_params = {\n",
    "    'eta': 0.05,\n",
    "    'max_depth': 5,\n",
    "    'subsample': 0.7,\n",
    "    'colsample_bytree': 0.7,\n",
    "    'objective': 'reg:linear',\n",
    "    'eval_metric': 'rmse',\n",
    "    'silent': 1\n",
    "}\n",
    "\n",
    "dtrain = xgb.DMatrix(X_train, y_train, feature_names=df_columns)\n",
    "dtest = xgb.DMatrix(X_test, feature_names=df_columns)\n",
    "\n",
    "\n",
    "num_boost_round = 489  # From Bruno's original CV, I think\n",
    "model = xgb.train(dict(xgb_params, silent=0), dtrain, num_boost_round=num_boost_round)\n",
    "\n",
    "y_pred = model.predict(dtest)\n",
    "\n",
    "df_sub = pd.DataFrame({'id': id_test, 'price_doc': y_pred})\n",
    "\n",
    "df_sub.head()"
   ]
  },
  {
   "cell_type": "code",
   "execution_count": null,
   "metadata": {
    "collapsed": false
   },
   "outputs": [],
   "source": [
    "first_result = output.merge(df_sub, on=\"id\", suffixes=['_louis','_bruno'])\n",
    "first_result[\"price_doc\"] = np.exp( .714*np.log(first_result.price_doc_louis) + \n",
    "                                    .286*np.log(first_result.price_doc_bruno) )  # multiplies out to .5 & .2\n",
    "result = first_result.merge(gunja_output, on=\"id\", suffixes=['_follow','_gunja'])\n",
    "\n",
    "result[\"price_doc\"] = np.exp( .7*np.log(result.price_doc_follow) + \n",
    "                              .3*np.log(result.price_doc_gunja) )\n",
    "result.drop([\"price_doc_louis\",\"price_doc_bruno\",\"price_doc_follow\",\"price_doc_gunja\"],axis=1,inplace=True)\n",
    "result.head()\n",
    "result.to_csv('sub.csv', index=False)"
   ]
  },
  {
   "cell_type": "code",
   "execution_count": null,
   "metadata": {
    "collapsed": true
   },
   "outputs": [],
   "source": []
  }
 ],
 "metadata": {
  "kernelspec": {
   "display_name": "Python 2",
   "language": "python",
   "name": "python2"
  },
  "language_info": {
   "codemirror_mode": {
    "name": "ipython",
    "version": 2
   },
   "file_extension": ".py",
   "mimetype": "text/x-python",
   "name": "python",
   "nbconvert_exporter": "python",
   "pygments_lexer": "ipython2",
   "version": "2.7.13"
  }
 },
 "nbformat": 4,
 "nbformat_minor": 0
}
